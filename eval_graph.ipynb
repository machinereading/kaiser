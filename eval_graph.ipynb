{
 "cells": [
  {
   "cell_type": "code",
   "execution_count": 1,
   "metadata": {},
   "outputs": [],
   "source": [
    "import json\n",
    "import glob\n",
    "import matplotlib.pylab as plt"
   ]
  },
  {
   "cell_type": "code",
   "execution_count": 2,
   "metadata": {},
   "outputs": [],
   "source": [
    "result_dir = '/disk/data/models/results/tgt/'"
   ]
  },
  {
   "cell_type": "code",
   "execution_count": 3,
   "metadata": {},
   "outputs": [
    {
     "name": "stdout",
     "output_type": "stream",
     "text": [
      "['/disk/data/models/results/tgt/en_for_en_large_tgt_result.txt', '/disk/data/models/results/tgt/en_for_ko_with_masking_tgt_result.txt', '/disk/data/models/results/tgt/ko_for_ko_with_masking_tgt_result.txt', '/disk/data/models/results/tgt/en_for_en_tgt_result.txt', '/disk/data/models/results/tgt/ko_for_en_tgt_result.txt', '/disk/data/models/results/tgt/ko_for_en_with_masking_tgt_result.txt', '/disk/data/models/results/tgt/ko_for_ko_tgt_result.txt', '/disk/data/models/results/tgt/en_for_en_with_masking_large_tgt_result.txt', '/disk/data/models/results/tgt/en_for_en_with_masking_tgt_result.txt']\n"
     ]
    }
   ],
   "source": [
    "files = glob.glob(result_dir+'*')\n",
    "print(files)\n",
    "\n",
    "# ko_fname = '/disk/data/models/results/tgt/ko_for_ko_with_masking_tgt_result.txt'\n",
    "# en_fname = '/disk/data/models/results/en_for_en_with_masking_result.txt'\n",
    "\n",
    "# ko_fname = '/disk/data/models/results/tgt/ko_for_ko_tgt_result.txt'\n",
    "# en_fname = '/disk/data/models/results/tgt/en_for_en_tgt_result.txt'\n",
    "\n",
    "# ko_fname = '/disk/data/models/results/tgt/ko_for_ko_with_masking_tgt_result.txt'\n",
    "# en_fname = '/disk/data/models/results/tgt/en_for_en_with_masking_tgt_result.txt'\n",
    "\n",
    "# en_fname = '/disk/data/models/results/tgt/en_for_en_with_masking_large_tgt_result.txt'\n",
    "# en_fname = '/disk/data/models/results/tgt/en_for_en_large_tgt_result.txt'\n",
    "\n",
    "# ko_fname = '/disk/data/models/results/multilingual/multilingual_for_ko_with_masking_tgt_result.txt'\n",
    "# en_fname = '/disk/data/models/results/multilingual/multilingual_for_en_with_masking_tgt_result.txt'\n",
    "\n",
    "# ko_fname = '/disk/data/models/results/multilingual/multilingual_for_ko_tgt_result.txt'\n",
    "# en_fname = '/disk/data/models/results/multilingual/multilingual_for_en_tgt_result.txt'\n",
    "\n",
    "# ko_fname = '/disk/data/models/results/multilingual/multilingual_for_ko_tgt_result.txt'\n",
    "# en_fname = '/disk/data/models/eval_result/en_with_exem_for_en_with_masking_result.txt'\n",
    "\n",
    "# ko_fname = '/disk/data/models/framenet/eval_result/proto_distilling_for_kor_with_masking.txt'\n",
    "# ko_fname = '/disk/data/models/framenet/eval_result/ko_for_ko_with_masking.txt'\n",
    "# en_fname = '/disk/data/models/framenet/eval_result/mul_for_ko_with_masking.txt'\n",
    "\n",
    "# ko_fname = '/disk/data/models/eval_result-25/proto_distilling_for_ko_with_masking_result.txt'\n",
    "# en_fname = '/disk/data/models/eval_result-25/mul_for_ko_with_masking_result.txt'\n",
    "# en_fname = '/disk/data/models/eval_result-25/ko_for_ko_with_masking_result.txt'\n",
    "\n",
    "# ko_fname = '/disk/data/models/eval_result-10/proto_distilling_for_ko_with_masking_result.txt'\n",
    "# en_fname = '/disk/data/models/eval_result-10/mul_for_ko_with_masking_result.txt'\n",
    "\n",
    "# ko_fname = '/disk/data/models/framenet/eval_result/proto_distilling_for_ko_with_masking_result.txt'\n",
    "# # en_fname = '/disk/data/models/framenet/eval_result/mul_for_ko_with_masking.txt'\n",
    "# ko_fname = '/disk/data/models/framenet/eval_result/mul_for_ko_with_masking.txt'\n",
    "# en_fname = '/disk/data/models/framenet/eval_result/ko_for_ko_with_masking.txt'\n",
    "\n",
    "# en_fname = '/disk/data/models/results/framenet/koModel/ko_for_ko_with_masking_result.txt'\n",
    "\n",
    "# ko_fname = '/disk/data/models/results/multilingual/multilingual_for_ko_with_masking_tgt_result.txt'\n",
    "# en_fname = '/disk/data/models/framenet/eval_result/ko_for_ko_with_masking.txt'\n",
    "# en_fname = '/disk/data/models/results/framenet/enModel-with-exemplar/en_with_exem_for_en_with_masking_result.txt'\n",
    "\n",
    "ko_fname = '/disk/data/models/results/multilingual/multilingual_for_ko_with_masking_tgt_result.txt'\n",
    "en_fname = '/disk/data/models/framenet/eval_result/ko_for_ko_with_masking.txt'"
   ]
  },
  {
   "cell_type": "code",
   "execution_count": 4,
   "metadata": {},
   "outputs": [],
   "source": [
    "valid_epochs = [0, 4, 9, 19, 29, 39, 49]\n",
    "# valid_epochs = list(range(50))\n",
    "\n",
    "def get_result(fname):\n",
    "    with open(fname,'r') as f:\n",
    "        d = f.readlines()\n",
    "    model = fname.split('/')[-1]\n",
    "\n",
    "    print(model)\n",
    "    n = 0\n",
    "\n",
    "    results = []\n",
    "    for line in d:\n",
    "        line = line.strip()\n",
    "        if n == 0:\n",
    "            items = line.split('\\t')\n",
    "        else:\n",
    "            result = line.split('\\t')\n",
    "            results.append(result)\n",
    "        n+=1\n",
    "\n",
    "    fids, argids = [], []\n",
    "    for i in range(len(results)):\n",
    "        item = results[i]\n",
    "        epoch, fid_score, f1_score = int(item[0]), round(float(item[1]), 4)*100, round(float(item[7]),4)*100\n",
    "\n",
    "        fid = (epoch, fid_score)\n",
    "        argid = (epoch, f1_score)\n",
    "        fids.append(fid)\n",
    "        argids.append(argid)\n",
    "\n",
    "        fids.sort(key=lambda element: element[0])\n",
    "        argids.sort(key=lambda element: element[0])\n",
    "\n",
    "    e, f, a = [],[],[]\n",
    "    for i in range(len(fids)):\n",
    "        epoch = fids[i][0]\n",
    "        fid = fids[i][1]\n",
    "        argid = argids[i][1]\n",
    "        if epoch in valid_epochs:           \n",
    "\n",
    "            e.append(epoch)\n",
    "            f.append(fid)\n",
    "            a.append(argid)\n",
    "    return (e,f,a)"
   ]
  },
  {
   "cell_type": "code",
   "execution_count": 5,
   "metadata": {},
   "outputs": [
    {
     "name": "stdout",
     "output_type": "stream",
     "text": [
      "multilingual_for_ko_with_masking_tgt_result.txt\n",
      "ko_for_ko_with_masking.txt\n"
     ]
    }
   ],
   "source": [
    "ko_result = get_result(ko_fname)\n",
    "en_result = get_result(en_fname)\n",
    "\n",
    "epochs = ko_result[0]"
   ]
  },
  {
   "cell_type": "code",
   "execution_count": 6,
   "metadata": {},
   "outputs": [
    {
     "data": {
      "image/png": "[encoded data removed]",
      "text/plain": [
       "<Figure size 432x288 with 1 Axes>"
      ]
     },
     "metadata": {},
     "output_type": "display_data"
    }
   ],
   "source": [
    "plt.title('FrameId - KFN 1.1')\n",
    "epochs = ko_result[0]\n",
    "plt.plot(epochs, ko_result[1], '-s', MarkerFaceColor='white')\n",
    "plt.show()"
   ]
  },
  {
   "cell_type": "code",
   "execution_count": 7,
   "metadata": {},
   "outputs": [
    {
     "data": {
      "image/png": "[encoded data removed]",
      "text/plain": [
       "<Figure size 432x288 with 1 Axes>"
      ]
     },
     "metadata": {},
     "output_type": "display_data"
    }
   ],
   "source": [
    "plt.title('FrameId - BFN 1.7')\n",
    "epochs = en_result[0]\n",
    "plt.plot(epochs, en_result[1], '-rs', MarkerFaceColor='white')\n",
    "plt.show()"
   ]
  },
  {
   "cell_type": "code",
   "execution_count": 8,
   "metadata": {},
   "outputs": [
    {
     "data": {
      "image/png": "[encoded data removed]",
      "text/plain": [
       "<Figure size 432x288 with 1 Axes>"
      ]
     },
     "metadata": {},
     "output_type": "display_data"
    }
   ],
   "source": [
    "plt.title('Full-structure - KFN 1.1')\n",
    "epochs = ko_result[0]\n",
    "plt.plot(epochs, ko_result[2], '-s', MarkerFaceColor='white')\n",
    "plt.show()"
   ]
  },
  {
   "cell_type": "code",
   "execution_count": 9,
   "metadata": {},
   "outputs": [
    {
     "data": {
      "image/png": "[encoded data removed]",
      "text/plain": [
       "<Figure size 432x288 with 1 Axes>"
      ]
     },
     "metadata": {},
     "output_type": "display_data"
    }
   ],
   "source": [
    "plt.title('Full-structure - BFN 1.7')\n",
    "epochs = en_result[0]\n",
    "plt.plot(epochs, en_result[2], '-rs', MarkerFaceColor='white')\n",
    "plt.show()"
   ]
  },
  {
   "cell_type": "code",
   "execution_count": 10,
   "metadata": {},
   "outputs": [
    {
     "name": "stdout",
     "output_type": "stream",
     "text": [
      "0 77.58 47.349999999999994\n",
      "4 81.3 56.64\n",
      "9 81.44 59.36\n",
      "19 81.87 60.540000000000006\n",
      "29 82.3 62.17\n",
      "39 81.66 61.28\n",
      "49 82.34 61.62\n"
     ]
    }
   ],
   "source": [
    "epochs = ko_result[0]\n",
    "for i in range(len(epochs)):\n",
    "    epoch = epochs[i]\n",
    "    fid = ko_result[1][i]\n",
    "    full = ko_result[2][i]\n",
    "    print(epoch, fid, full)"
   ]
  },
  {
   "cell_type": "code",
   "execution_count": 11,
   "metadata": {},
   "outputs": [
    {
     "name": "stdout",
     "output_type": "stream",
     "text": [
      "0 72.50999999999999 42.870000000000005\n",
      "4 80.28 53.839999999999996\n",
      "9 80.89 56.85\n",
      "19 81.69999999999999 60.160000000000004\n",
      "29 81.85 60.160000000000004\n",
      "39 81.93 60.89\n",
      "49 81.67999999999999 60.64000000000001\n"
     ]
    }
   ],
   "source": [
    "epochs = en_result[0]\n",
    "for i in range(len(epochs)):\n",
    "    epoch = epochs[i]\n",
    "    fid = en_result[1][i]\n",
    "    full = en_result[2][i]\n",
    "    print(epoch, fid, full)"
   ]
  }
 ],
 "metadata": {
  "kernelspec": {
   "display_name": "Python 3",
   "language": "python",
   "name": "python3"
  },
  "language_info": {
   "codemirror_mode": {
    "name": "ipython",
    "version": 3
   },
   "file_extension": ".py",
   "mimetype": "text/x-python",
   "name": "python",
   "nbconvert_exporter": "python",
   "pygments_lexer": "ipython3",
   "version": "3.6.5"
  }
 },
 "nbformat": 4,
 "nbformat_minor": 2
}
