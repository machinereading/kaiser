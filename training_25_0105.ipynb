{
 "cells": [
  {
   "cell_type": "code",
   "execution_count": 1,
   "metadata": {},
   "outputs": [
    {
     "name": "stderr",
     "output_type": "stream",
     "text": [
      "Using TensorFlow backend.\n"
     ]
    },
    {
     "name": "stdout",
     "output_type": "stream",
     "text": [
      "### Korean FrameNet ###\n",
      "\t# contact: hahmyg@kaist, hahmyg@gmail.com #\n",
      "\n"
     ]
    }
   ],
   "source": [
    "import json\n",
    "import sys\n",
    "import glob\n",
    "import torch\n",
    "sys.path.append('../')\n",
    "import os\n",
    "from transformers import *\n",
    "from kaiser.src import utils\n",
    "from kaiser.src import dataio\n",
    "from kaiser.src.modeling import BertForJointShallowSemanticParsing, FrameBERT\n",
    "from torch.utils.data import TensorDataset, DataLoader, RandomSampler, SequentialSampler\n",
    "import torch\n",
    "from torch import nn\n",
    "from torch.optim import Adam\n",
    "from tqdm import tqdm, trange\n",
    "from sklearn.metrics import accuracy_score\n",
    "from seqeval.metrics import f1_score, precision_score, recall_score\n",
    "\n",
    "import torch.nn.functional as F\n",
    "from torch.nn import CrossEntropyLoss\n",
    "\n",
    "device = torch.device(\"cuda:0\" if torch.cuda.is_available() else \"cpu\")\n",
    "n_gpu = torch.cuda.device_count()\n",
    "if device != \"cpu\":\n",
    "    torch.cuda.set_device(0)\n",
    "# device = torch.device('cpu')\n",
    "# torch.cuda.set_device(device)\n",
    "# torch.backends.cudnn.deterministic = True\n",
    "# torch.backends.cudnn.benchmark = True\n",
    "\n",
    "import numpy as np\n",
    "import random\n",
    "np.random.seed(0)   \n",
    "random.seed(0)\n",
    "import random\n",
    "\n",
    "from torch import autograd\n",
    "torch.cuda.empty_cache()"
   ]
  },
  {
   "cell_type": "code",
   "execution_count": 2,
   "metadata": {},
   "outputs": [],
   "source": [
    "KD_loss = nn.KLDivLoss(reduction='batchmean')"
   ]
  },
  {
   "cell_type": "code",
   "execution_count": 3,
   "metadata": {},
   "outputs": [],
   "source": [
    "# 실행시간 측정 함수\n",
    "import time\n",
    "\n",
    "_start_time = time.time()\n",
    "\n",
    "def tic():\n",
    "    global _start_time \n",
    "    _start_time = time.time()\n",
    "\n",
    "def tac():\n",
    "    t_sec = round(time.time() - _start_time)\n",
    "    (t_min, t_sec) = divmod(t_sec,60)\n",
    "    (t_hour,t_min) = divmod(t_min,60)\n",
    "    \n",
    "    result = '{}hour:{}min:{}sec'.format(t_hour,t_min,t_sec)\n",
    "    return result"
   ]
  },
  {
   "cell_type": "code",
   "execution_count": 4,
   "metadata": {},
   "outputs": [],
   "source": [
    "try:\n",
    "    dir_path = os.path.dirname(os.path.abspath( __file__ ))\n",
    "except:\n",
    "    dir_path = '.'"
   ]
  },
  {
   "cell_type": "code",
   "execution_count": 5,
   "metadata": {},
   "outputs": [],
   "source": [
    "class MLP(nn.Module):\n",
    "    def __init__(self):\n",
    "        super(MLP, self).__init__()\n",
    "        self.layers = nn.Sequential(\n",
    "            nn.Linear(768, 768),\n",
    "            nn.ReLU(),\n",
    "            nn.Linear(768, 768)\n",
    "        )\n",
    "        \n",
    "    def forward(self, x):\n",
    "        x = x.view(x.size(0), -1)\n",
    "        x = self.layers(x)\n",
    "        return x"
   ]
  },
  {
   "cell_type": "code",
   "execution_count": 6,
   "metadata": {},
   "outputs": [],
   "source": [
    "with open('./koreanframenet/resource/info/fn1.7_frame2idx.json', 'r') as f:\n",
    "    frame2idx = json.load(f)\n",
    "with open('./koreanframenet/resource/info/fn1.7_frame_definitions.json', 'r') as f:\n",
    "    frame2definition = json.load(f)\n",
    "frame_prototype = torch.load('./data/frame_prototype.pt')\n",
    "    \n",
    "\n",
    "def get_prototype(input_senses):\n",
    "\n",
    "    frame_prototypes = []\n",
    "    for i in input_senses:\n",
    "        frame_idx = i.item()\n",
    "        frame = bert_io.idx2sense[frame_idx]\n",
    "    \n",
    "        proto = frame_prototype[frame]\n",
    "        frame_prototypes.append(proto)\n",
    "\n",
    "    frame_prototypes = torch.stack(frame_prototypes).view(-1, 768)\n",
    "    \n",
    "    return frame_prototypes"
   ]
  },
  {
   "cell_type": "code",
   "execution_count": 7,
   "metadata": {},
   "outputs": [],
   "source": [
    "def train(PRETRAINED_MODEL=\"bert-base-multilingual-cased\", \n",
    "          temperature=2.0, alpha_distilling=0.2, alpha_parsing=0.8, \n",
    "          model_dir=False, epoch=50):\n",
    "\n",
    "    \n",
    "    print('\\n\\tyour model would be saved at', model_dir)\n",
    "    if not os.path.exists(model_dir):\n",
    "        os.makedirs(model_dir)\n",
    "    \n",
    "    # MLP for frame prototype\n",
    "    model_path = '/disk/data/models/framenet/prototype_mlp/prototype_mlp.pth'\n",
    "    mlp_model = MLP()\n",
    "    mlp_model.to(device)\n",
    "    mlp_model.load_state_dict(torch.load(model_path))\n",
    "    mlp_model.eval()\n",
    "    \n",
    "    # FrameBERT_ko model\n",
    "#     frameBERT_dir = '/disk/data/models/frameBERT/frameBERT_en'\n",
    "    frameBERT_dir = PRETRAINED_MODEL\n",
    "    print('original model:', frameBERT_dir)\n",
    "    model = BertForJointShallowSemanticParsing.from_pretrained(frameBERT_dir, \n",
    "                                                               num_senses = len(bert_io.sense2idx), \n",
    "                                                               num_args = len(bert_io.bio_arg2idx),\n",
    "                                                               lufrmap=bert_io.lufrmap, \n",
    "                                                               frargmap = bert_io.bio_frargmap, \n",
    "                                                               return_pooled_output=True)\n",
    "    \n",
    "    model.to(device)  \n",
    "\n",
    "    tic()\n",
    "    print('\\n### converting data to BERT input...')\n",
    "    trn_data = bert_io.convert_to_bert_input_JointShallowSemanticParsing(trn)\n",
    "    print('\\t ...is done:', tac())\n",
    "    print('\\t#of instance:', len(trn), len(trn_data))\n",
    "    sampler = RandomSampler(trn)\n",
    "    trn_dataloader = DataLoader(trn_data, sampler=sampler, batch_size=batch_size)\n",
    "    \n",
    "    # load optimizer\n",
    "    FULL_FINETUNING = True\n",
    "    if FULL_FINETUNING:\n",
    "        param_optimizer = list(model.named_parameters())\n",
    "        no_decay = ['bias', 'gamma', 'beta']\n",
    "        optimizer_grouped_parameters = [\n",
    "            {'params': [p for n, p in param_optimizer if not any(nd in n for nd in no_decay)],\n",
    "             'weight_decay_rate': 0.01},\n",
    "            {'params': [p for n, p in param_optimizer if any(nd in n for nd in no_decay)],\n",
    "             'weight_decay_rate': 0.0}\n",
    "        ]\n",
    "    else:\n",
    "        param_optimizer = list(model.classifier.named_parameters()) \n",
    "        optimizer_grouped_parameters = [{\"params\": [p for n, p in param_optimizer]}]\n",
    "    optimizer = Adam(optimizer_grouped_parameters, lr=3e-5)\n",
    "    \n",
    "        \n",
    "    max_grad_norm = 1.0\n",
    "    num_of_epoch = 0\n",
    "    accuracy_result = []\n",
    "    \n",
    "    for _ in trange(epochs, desc=\"Epoch\"):\n",
    "        \n",
    "        # TRAIN loop\n",
    "        tr_loss = 0\n",
    "        nb_tr_examples, nb_tr_steps = 0, 0\n",
    "        for step, batch in enumerate(trn_dataloader):\n",
    "            mlp_model.eval()\n",
    "            model.train()\n",
    "            \n",
    "            # add batch to gpu\n",
    "            torch.cuda.set_device(0)\n",
    "#             torch.cuda.set_device(device)\n",
    "            batch = tuple(t.to(device) for t in batch)\n",
    "            b_input_ids, b_input_orig_tok_to_maps, b_input_lus, b_input_senses, b_input_args, b_token_type_ids, b_input_masks = batch                      \n",
    "            \n",
    "            # get prototypes for frames\n",
    "            prototypes = get_prototype(b_input_senses)\n",
    "            \n",
    "            pooled_output, loss_parsing = model(b_input_ids, \n",
    "                                                token_type_ids=b_token_type_ids, \n",
    "                                                attention_mask=b_input_masks,\n",
    "                                                lus=b_input_lus,\n",
    "                                                senses=b_input_senses, \n",
    "                                                args=b_input_args)\n",
    "            \n",
    "            with torch.no_grad():\n",
    "                pooled_output = mlp_model(pooled_output)\n",
    "            \n",
    "            loss_distilling = (\n",
    "                KD_loss(\n",
    "                    F.log_softmax(pooled_output / temperature, dim=-1),\n",
    "                    F.softmax(prototypes / temperature, dim=-1),            \n",
    "                )\n",
    "                * temperature **2\n",
    "            )\n",
    "            \n",
    "            loss = alpha_distilling * loss_distilling + alpha_parsing * loss_parsing\n",
    "            \n",
    "            loss.backward()\n",
    "            # track train loss\n",
    "            tr_loss += loss.item()\n",
    "            nb_tr_examples += b_input_ids.size(0)\n",
    "            nb_tr_steps += 1\n",
    "            # gradient clipping\n",
    "            torch.nn.utils.clip_grad_norm_(parameters=model.parameters(), max_norm=max_grad_norm)\n",
    "            # update parameters\n",
    "            optimizer.step()\n",
    "#             scheduler.step()\n",
    "            model.zero_grad()\n",
    "    \n",
    "#             break\n",
    "\n",
    "        print(\"Train loss: {}\".format(tr_loss/nb_tr_steps))\n",
    "        \n",
    "#         break\n",
    "#         save your model\n",
    "        model_saved_path = model_dir+str(num_of_epoch)+'/'\n",
    "        print('\\n\\tyour model is saved:', model_saved_path)\n",
    "        if not os.path.exists(model_saved_path):\n",
    "            os.makedirs(model_saved_path)\n",
    "        model.save_pretrained(model_saved_path)\n",
    "        \n",
    "        num_of_epoch += 1\n",
    "\n",
    "        \n",
    "#         break\n",
    "    print('...training is done')"
   ]
  },
  {
   "cell_type": "code",
   "execution_count": 8,
   "metadata": {},
   "outputs": [],
   "source": [
    "def train_ori(retrain=False, pretrained_dir=False):\n",
    "    if pretrained_dir:\n",
    "        print('original model:', pretrained_dir)\n",
    "    else:\n",
    "        print('original model:', 'BERT-multilingual-base')\n",
    "    print('\\n\\tyour model would be saved at', model_dir)\n",
    "    if not os.path.exists(model_dir):\n",
    "        os.makedirs(model_dir)\n",
    "\n",
    "    # load a model first\n",
    "    if retrain:\n",
    "#         model_saved_path = pretrained_dir\n",
    "        model = BertForJointShallowSemanticParsing.from_pretrained(pretrained_dir, \n",
    "                                                                   num_senses = len(bert_io.sense2idx), \n",
    "                                                                   num_args = len(bert_io.bio_arg2idx),\n",
    "                                                                   lufrmap=bert_io.lufrmap, \n",
    "                                                                   frargmap = bert_io.bio_frargmap)\n",
    "    else:\n",
    "#         model_saved_path = PRETRAINED_MODEL\n",
    "        model = BertForJointShallowSemanticParsing.from_pretrained(PRETRAINED_MODEL, \n",
    "                                                                   num_senses = len(bert_io.sense2idx), \n",
    "                                                                   num_args = len(bert_io.bio_arg2idx),\n",
    "                                                                   lufrmap=bert_io.lufrmap, \n",
    "                                                                   frargmap = bert_io.bio_frargmap)\n",
    "    model.to(device)\n",
    "    \n",
    "    print('retrain:', retrain)\n",
    "    tic()\n",
    "    print('\\n### converting data to BERT input...')\n",
    "    trn_data = bert_io.convert_to_bert_input_JointShallowSemanticParsing(trn)\n",
    "    print('\\t ...is done:', tac())\n",
    "    print('\\t#of instance:', len(trn), len(trn_data))\n",
    "    sampler = RandomSampler(trn)\n",
    "    trn_dataloader = DataLoader(trn_data, sampler=sampler, batch_size=batch_size)\n",
    "    \n",
    "    # load optimizer\n",
    "    FULL_FINETUNING = True\n",
    "    if FULL_FINETUNING:\n",
    "        param_optimizer = list(model.named_parameters())\n",
    "        no_decay = ['bias', 'gamma', 'beta']\n",
    "        optimizer_grouped_parameters = [\n",
    "            {'params': [p for n, p in param_optimizer if not any(nd in n for nd in no_decay)],\n",
    "             'weight_decay_rate': 0.01},\n",
    "            {'params': [p for n, p in param_optimizer if any(nd in n for nd in no_decay)],\n",
    "             'weight_decay_rate': 0.0}\n",
    "        ]\n",
    "    else:\n",
    "        param_optimizer = list(model.classifier.named_parameters()) \n",
    "        optimizer_grouped_parameters = [{\"params\": [p for n, p in param_optimizer]}]\n",
    "    optimizer = Adam(optimizer_grouped_parameters, lr=3e-5)\n",
    "\n",
    "#     lr = 5e-5\n",
    "#     lr =3e-5\n",
    "#     optimizer = AdamW(model.parameters(), lr=lr, eps=1e-8)\n",
    "#     num_training_steps = len(trn_dataloader) // epochs\n",
    "#     scheduler = get_linear_schedule_with_warmup(optimizer, num_warmup_steps=0, num_training_steps=num_training_steps)  # PyTorch scheduler\n",
    "    \n",
    "    max_grad_norm = 1.0\n",
    "#     global_step = 0\n",
    "#     num_of_epoch = 1\n",
    "    num_of_epoch = 0\n",
    "    accuracy_result = []\n",
    "    for _ in trange(epochs, desc=\"Epoch\"):\n",
    "        \n",
    "        # TRAIN loop\n",
    "        tr_loss = 0\n",
    "        nb_tr_examples, nb_tr_steps = 0, 0\n",
    "        for step, batch in enumerate(trn_dataloader):\n",
    "            model.train()\n",
    "            # add batch to gpu\n",
    "            torch.cuda.set_device(0)\n",
    "#             torch.cuda.set_device(device)\n",
    "            batch = tuple(t.to(device) for t in batch)\n",
    "            b_input_ids, b_input_orig_tok_to_maps, b_input_lus, b_input_senses, b_input_args, b_token_type_ids, b_input_masks = batch            \n",
    "#             print(b_token_type_ids[0])\n",
    "            # forward pass\n",
    "#             with autograd.detect_anomaly():\n",
    "            loss = model(b_input_ids, lus=b_input_lus, senses=b_input_senses, args=b_input_args,\n",
    "                     token_type_ids=b_token_type_ids, attention_mask=b_input_masks)\n",
    "            # backward pass\n",
    "\n",
    "\n",
    "            loss.backward()\n",
    "            # track train loss\n",
    "            tr_loss += loss.item()\n",
    "            nb_tr_examples += b_input_ids.size(0)\n",
    "            nb_tr_steps += 1\n",
    "            # gradient clipping\n",
    "            torch.nn.utils.clip_grad_norm_(parameters=model.parameters(), max_norm=max_grad_norm)\n",
    "            # update parameters\n",
    "            optimizer.step()\n",
    "#             scheduler.step()\n",
    "            model.zero_grad()\n",
    "    \n",
    "#             break\n",
    "\n",
    "        print(\"Train loss: {}\".format(tr_loss/nb_tr_steps))\n",
    "        \n",
    "        # save your model\n",
    "        model_saved_path = model_dir+str(num_of_epoch)+'/'\n",
    "        print('\\n\\tyour model is saved:', model_saved_path)\n",
    "        if not os.path.exists(model_saved_path):\n",
    "            os.makedirs(model_saved_path)\n",
    "        model.save_pretrained(model_saved_path)\n",
    "        \n",
    "        num_of_epoch += 1\n",
    "\n",
    "        \n",
    "#         break\n",
    "    print('...training is done')"
   ]
  },
  {
   "cell_type": "markdown",
   "metadata": {},
   "source": [
    "# Train 10%"
   ]
  },
  {
   "cell_type": "code",
   "execution_count": 9,
   "metadata": {},
   "outputs": [],
   "source": [
    "srl = 'framenet'\n",
    "masking = True\n",
    "MAX_LEN = 256\n",
    "batch_size = 6\n",
    "PRETRAINED_MODEL = \"bert-base-multilingual-cased\"\n",
    "fnversion = '1.7'\n",
    "language = 'multi'"
   ]
  },
  {
   "cell_type": "code",
   "execution_count": 10,
   "metadata": {},
   "outputs": [
    {
     "name": "stdout",
     "output_type": "stream",
     "text": [
      "\n",
      "### loading Korean FrameNet 1.1 data...\n",
      "\t# of instances in training data: 17838\n",
      "\t# of instances in dev data: 2548\n",
      "\t# of instances in test data: 5097\n",
      "# of instances in trn: 17838\n",
      "# of instances in dev: 2548\n",
      "# of instances in tst: 5097\n",
      "data example: [['태풍', 'Hugo가', '남긴', '피해들과', '회사', '내', '몇몇', '주요', '부서들의', '저조한', '실적들을', '반영하여,', 'Aetna', 'Life', 'and', 'Casualty', 'Co.의', '3분기', '<tgt>', '순이익이', '</tgt>', '182.6', '백만', '달러', '또는', '주당', '1.63', '달러로', '22', '%', '하락하였다.'], ['_', '_', '_', '_', '_', '_', '_', '_', '_', '_', '_', '_', '_', '_', '_', '_', '_', '_', '_', '이익.n', '_', '_', '_', '_', '_', '_', '_', '_', '_', '_', '_'], ['_', '_', '_', '_', '_', '_', '_', '_', '_', '_', '_', '_', '_', '_', '_', '_', '_', '_', '_', 'Earnings_and_losses', '_', '_', '_', '_', '_', '_', '_', '_', '_', '_', '_'], ['O', 'O', 'O', 'O', 'O', 'O', 'O', 'O', 'O', 'O', 'O', 'O', 'B-Earner', 'I-Earner', 'I-Earner', 'I-Earner', 'I-Earner', 'B-Time', 'X', 'O', 'X', 'O', 'O', 'O', 'O', 'O', 'O', 'O', 'O', 'O', 'O']]\n",
      "\n",
      "\t### training instance: 1783\n"
     ]
    }
   ],
   "source": [
    "trn, dev, tst = dataio.load_data(srl=srl, language='ko')\n",
    "\n",
    "# by 10% (1783)\n",
    "# trn = random.sample(trn, k=1783)\n",
    "\n",
    "# with open('./trn_10per.json','w') as f:\n",
    "#     json.dump(trn, f, ensure_ascii=False, indent=4)\n",
    "    \n",
    "with open('./trn_10per.json','r') as f:\n",
    "    trn = json.load(f)\n",
    "\n",
    "# # by 25% (4460)\n",
    "# trn = random.sample(trn, k=4460)\n",
    "\n",
    "# # by 50% (8919)\n",
    "# trn = random.sample(trn, k=8919)\n",
    "\n",
    "print('\\n\\t### training instance:', len(trn))\n",
    "\n",
    "epochs = 5\n",
    "language = 'multi'"
   ]
  },
  {
   "cell_type": "markdown",
   "metadata": {},
   "source": [
    "## for distill model (10%)"
   ]
  },
  {
   "cell_type": "code",
   "execution_count": 11,
   "metadata": {},
   "outputs": [
    {
     "name": "stdout",
     "output_type": "stream",
     "text": [
      "\n",
      "### TRAINING\n",
      "MODEL: framenet\n",
      "LANGUAGE: multi\n",
      "PRETRAINED BERT: bert-base-multilingual-cased\n",
      "training data:\n",
      "\t(ko): 1783\n",
      "BATCH_SIZE: 6\n",
      "MAX_LEN: 256\n",
      "\n",
      "used dictionary:\n",
      "\t /disk/kaiser/kaiser/src/../koreanframenet/resource/info/mul_lu2idx.json\n",
      "\t /disk/kaiser/kaiser/src/../koreanframenet/resource/info/mul_lufrmap.json\n",
      "\t /disk/kaiser/kaiser/src/../koreanframenet/resource/info/mul_bio_frargmap.json\n",
      "\n",
      "\tyour model would be saved at /disk/data/models/framenet/proto_distilling-10-test/\n",
      "original model: bert-base-multilingual-cased\n",
      "\n",
      "### converting data to BERT input...\n"
     ]
    },
    {
     "name": "stderr",
     "output_type": "stream",
     "text": [
      "\r",
      "Epoch:   0%|          | 0/5 [00:00<?, ?it/s]"
     ]
    },
    {
     "name": "stdout",
     "output_type": "stream",
     "text": [
      "\t ...is done: 0hour:0min:2sec\n",
      "\t#of instance: 1783 1783\n"
     ]
    },
    {
     "name": "stderr",
     "output_type": "stream",
     "text": [
      "../kaiser/src/utils.py:309: UserWarning: Implicit dimension choice for softmax has been deprecated. Change the call to include dim=X as an argument.\n",
      "  pred_logits = sm(masked_logit).view(1,-1)\n"
     ]
    },
    {
     "name": "stdout",
     "output_type": "stream",
     "text": [
      "Train loss: 1.933898074914945\n",
      "\n",
      "\tyour model is saved: /disk/data/models/framenet/proto_distilling-10-test/0/\n"
     ]
    },
    {
     "name": "stderr",
     "output_type": "stream",
     "text": [
      "\r",
      "Epoch:  20%|██        | 1/5 [01:56<07:46, 116.60s/it]"
     ]
    },
    {
     "name": "stdout",
     "output_type": "stream",
     "text": [
      "Train loss: 1.6515153546461323\n",
      "\n",
      "\tyour model is saved: /disk/data/models/framenet/proto_distilling-10-test/1/\n"
     ]
    },
    {
     "name": "stderr",
     "output_type": "stream",
     "text": [
      "\r",
      "Epoch:  40%|████      | 2/5 [04:07<06:02, 120.90s/it]"
     ]
    },
    {
     "name": "stdout",
     "output_type": "stream",
     "text": [
      "Train loss: 1.59292721388324\n",
      "\n",
      "\tyour model is saved: /disk/data/models/framenet/proto_distilling-10-test/2/\n"
     ]
    },
    {
     "name": "stderr",
     "output_type": "stream",
     "text": [
      "\r",
      "Epoch:  60%|██████    | 3/5 [06:19<04:08, 124.19s/it]"
     ]
    },
    {
     "name": "stdout",
     "output_type": "stream",
     "text": [
      "Train loss: 1.5389537527257164\n",
      "\n",
      "\tyour model is saved: /disk/data/models/framenet/proto_distilling-10-test/3/\n"
     ]
    },
    {
     "name": "stderr",
     "output_type": "stream",
     "text": [
      "\r",
      "Epoch:  80%|████████  | 4/5 [08:31<02:06, 126.58s/it]"
     ]
    },
    {
     "name": "stdout",
     "output_type": "stream",
     "text": [
      "Train loss: 1.4883302238163532\n",
      "\n",
      "\tyour model is saved: /disk/data/models/framenet/proto_distilling-10-test/4/\n"
     ]
    },
    {
     "name": "stderr",
     "output_type": "stream",
     "text": [
      "Epoch: 100%|██████████| 5/5 [10:43<00:00, 128.75s/it]"
     ]
    },
    {
     "name": "stdout",
     "output_type": "stream",
     "text": [
      "...training is done\n"
     ]
    },
    {
     "name": "stderr",
     "output_type": "stream",
     "text": [
      "\n"
     ]
    }
   ],
   "source": [
    "model_dir = '/disk/data/models/framenet/proto_distilling-10-test/'\n",
    "\n",
    "print('')\n",
    "print('### TRAINING')\n",
    "print('MODEL:', srl)\n",
    "print('LANGUAGE:', language)\n",
    "print('PRETRAINED BERT:', PRETRAINED_MODEL)\n",
    "print('training data:')\n",
    "print('\\t(ko):', len(trn))\n",
    "print('BATCH_SIZE:', batch_size)\n",
    "print('MAX_LEN:', MAX_LEN)\n",
    "print('')\n",
    "\n",
    "bert_io = utils.for_BERT(mode='train', srl=srl, language=language, masking=masking, fnversion=fnversion, pretrained=PRETRAINED_MODEL)\n",
    "train(temperature=2.0, alpha_distilling=0.5, alpha_parsing=0.5, \n",
    "      model_dir=model_dir, epoch=epochs)"
   ]
  },
  {
   "cell_type": "markdown",
   "metadata": {},
   "source": [
    "## for koModel (10%)"
   ]
  },
  {
   "cell_type": "code",
   "execution_count": 12,
   "metadata": {},
   "outputs": [],
   "source": [
    "# # for KoModel\n",
    "\n",
    "# model_dir = '/disk/data/models/framenet/koModel-10/'\n",
    "\n",
    "# print('\\nFineTuning Multilingual')\n",
    "# print('### TRAINING')\n",
    "# print('MODEL:', srl)\n",
    "# print('LANGUAGE:', language)\n",
    "# print('PRETRAINED BERT:', PRETRAINED_MODEL)\n",
    "# print('training data:')\n",
    "# print('\\t(ko):', len(trn))\n",
    "# print('BATCH_SIZE:', batch_size)\n",
    "# print('MAX_LEN:', MAX_LEN)\n",
    "# print('')\n",
    "\n",
    "# bert_io = utils.for_BERT(mode='train', srl=srl, language=language, masking=masking, fnversion=fnversion, pretrained=PRETRAINED_MODEL)\n",
    "# train_ori()"
   ]
  },
  {
   "cell_type": "markdown",
   "metadata": {},
   "source": [
    "## for mul-Model (10%)"
   ]
  },
  {
   "cell_type": "code",
   "execution_count": 13,
   "metadata": {},
   "outputs": [],
   "source": [
    "# model_dir = '/disk/data/models/framenet/mulModel-10/'\n",
    "\n",
    "# print('\\nFineTuning FrameBERT')\n",
    "# print('### TRAINING')\n",
    "# print('MODEL:', srl)\n",
    "# print('LANGUAGE:', language)\n",
    "# print('PRETRAINED BERT:', PRETRAINED_MODEL)\n",
    "# print('training data:')\n",
    "# print('\\t(ko):', len(trn))\n",
    "# print('BATCH_SIZE:', batch_size)\n",
    "# print('MAX_LEN:', MAX_LEN)\n",
    "# print('')\n",
    "\n",
    "# bert_io = utils.for_BERT(mode='train', srl=srl, language=language, masking=masking, fnversion=fnversion, pretrained=PRETRAINED_MODEL)\n",
    "# train_ori(retrain=True, pretrained_dir='/disk/data/models/frameBERT/frameBERT_en/')"
   ]
  },
  {
   "cell_type": "markdown",
   "metadata": {},
   "source": [
    "# Train 25%"
   ]
  },
  {
   "cell_type": "code",
   "execution_count": 14,
   "metadata": {},
   "outputs": [],
   "source": [
    "# trn, dev, tst = dataio.load_data(srl=srl, language='ko')\n",
    "\n",
    "# # by 10% (1783)\n",
    "# # trn = random.sample(trn, k=1783)\n",
    "\n",
    "# # by 25% (4460)\n",
    "# trn = random.sample(trn, k=4460)\n",
    "\n",
    "# with open('./trn_25per.json','w') as f:\n",
    "#     json.dump(trn, f, ensure_ascii=False, indent=4)\n",
    "    \n",
    "# # # by 50% (8919)\n",
    "# # trn = random.sample(trn, k=8919)\n",
    "\n",
    "# print('\\n\\t### training instance:', len(trn))\n",
    "\n",
    "# epochs = 50\n",
    "# language = 'multi'"
   ]
  },
  {
   "cell_type": "markdown",
   "metadata": {},
   "source": [
    "## for distill model (25%)"
   ]
  },
  {
   "cell_type": "code",
   "execution_count": 15,
   "metadata": {},
   "outputs": [],
   "source": [
    "# model_dir = '/disk/data/models/framenet/proto_distilling-25/'\n",
    "\n",
    "# print('')\n",
    "# print('### TRAINING')\n",
    "# print('MODEL:', srl)\n",
    "# print('LANGUAGE:', language)\n",
    "# print('PRETRAINED BERT:', PRETRAINED_MODEL)\n",
    "# print('training data:')\n",
    "# print('\\t(ko):', len(trn))\n",
    "# print('BATCH_SIZE:', batch_size)\n",
    "# print('MAX_LEN:', MAX_LEN)\n",
    "# print('')\n",
    "\n",
    "# bert_io = utils.for_BERT(mode='train', srl=srl, language=language, masking=masking, fnversion=fnversion, pretrained=PRETRAINED_MODEL)\n",
    "# train(temperature=2.0, alpha_distilling=0.5, alpha_parsing=0.5, \n",
    "#       model_dir=model_dir, epoch=epochs)"
   ]
  },
  {
   "cell_type": "markdown",
   "metadata": {},
   "source": [
    "## for koModel (25%)"
   ]
  },
  {
   "cell_type": "code",
   "execution_count": 16,
   "metadata": {},
   "outputs": [],
   "source": [
    "# # for KoModel\n",
    "\n",
    "# model_dir = '/disk/data/models/framenet/koModel-25/'\n",
    "\n",
    "# print('\\nFineTuning Multilingual')\n",
    "# print('### TRAINING')\n",
    "# print('MODEL:', srl)\n",
    "# print('LANGUAGE:', language)\n",
    "# print('PRETRAINED BERT:', PRETRAINED_MODEL)\n",
    "# print('training data:')\n",
    "# print('\\t(ko):', len(trn))\n",
    "# print('BATCH_SIZE:', batch_size)\n",
    "# print('MAX_LEN:', MAX_LEN)\n",
    "# print('')\n",
    "\n",
    "# bert_io = utils.for_BERT(mode='train', srl=srl, language=language, masking=masking, fnversion=fnversion, pretrained=PRETRAINED_MODEL)\n",
    "# train_ori()"
   ]
  },
  {
   "cell_type": "markdown",
   "metadata": {},
   "source": [
    "## for mul-Model (25%)"
   ]
  },
  {
   "cell_type": "code",
   "execution_count": 17,
   "metadata": {},
   "outputs": [],
   "source": [
    "# model_dir = '/disk/data/models/framenet/mulModel-25/'\n",
    "\n",
    "# print('\\nFineTuning FrameBERT')\n",
    "# print('### TRAINING')\n",
    "# print('MODEL:', srl)\n",
    "# print('LANGUAGE:', language)\n",
    "# print('PRETRAINED BERT:', PRETRAINED_MODEL)\n",
    "# print('training data:')\n",
    "# print('\\t(ko):', len(trn))\n",
    "# print('BATCH_SIZE:', batch_size)\n",
    "# print('MAX_LEN:', MAX_LEN)\n",
    "# print('')\n",
    "\n",
    "# bert_io = utils.for_BERT(mode='train', srl=srl, language=language, masking=masking, fnversion=fnversion, pretrained=PRETRAINED_MODEL)\n",
    "# train_ori(retrain=True, pretrained_dir='/disk/data/models/frameBERT/frameBERT_en/')"
   ]
  },
  {
   "cell_type": "markdown",
   "metadata": {},
   "source": [
    "# Train 50%"
   ]
  },
  {
   "cell_type": "code",
   "execution_count": 18,
   "metadata": {},
   "outputs": [],
   "source": [
    "# trn, dev, tst = dataio.load_data(srl=srl, language='ko')\n",
    "\n",
    "# # by 10% (1783)\n",
    "# # trn = random.sample(trn, k=1783)\n",
    "\n",
    "# # # by 25% (4460)\n",
    "# # trn = random.sample(trn, k=4460)\n",
    "\n",
    "# # by 50% (8919)\n",
    "# trn = random.sample(trn, k=8919)\n",
    "\n",
    "# print('\\n\\t### training instance:', len(trn))\n",
    "\n",
    "# epochs = 50\n",
    "# # epochs = 5\n",
    "# language = 'multi'"
   ]
  },
  {
   "cell_type": "markdown",
   "metadata": {},
   "source": [
    "## for koModel"
   ]
  },
  {
   "cell_type": "code",
   "execution_count": 19,
   "metadata": {},
   "outputs": [],
   "source": [
    "# # for KoModel\n",
    "\n",
    "# model_dir = '/disk/data/models/framenet/koModel-50/'\n",
    "\n",
    "# print('\\nFineTuning Multilingual')\n",
    "# print('### TRAINING')\n",
    "# print('MODEL:', srl)\n",
    "# print('LANGUAGE:', language)\n",
    "# print('PRETRAINED BERT:', PRETRAINED_MODEL)\n",
    "# print('training data:')\n",
    "# print('\\t(ko):', len(trn))\n",
    "# print('BATCH_SIZE:', batch_size)\n",
    "# print('MAX_LEN:', MAX_LEN)\n",
    "# print('')\n",
    "\n",
    "# bert_io = utils.for_BERT(mode='train', srl=srl, language=language, masking=masking, fnversion=fnversion, pretrained=PRETRAINED_MODEL)\n",
    "# train_ori()"
   ]
  },
  {
   "cell_type": "markdown",
   "metadata": {},
   "source": [
    "## for mul-Model"
   ]
  },
  {
   "cell_type": "code",
   "execution_count": 20,
   "metadata": {},
   "outputs": [],
   "source": [
    "# model_dir = '/disk/data/models/framenet/mulModel-50/'\n",
    "\n",
    "# print('\\nFineTuning FrameBERT')\n",
    "# print('### TRAINING')\n",
    "# print('MODEL:', srl)\n",
    "# print('LANGUAGE:', language)\n",
    "# print('PRETRAINED BERT:', PRETRAINED_MODEL)\n",
    "# print('training data:')\n",
    "# print('\\t(ko):', len(trn))\n",
    "# print('BATCH_SIZE:', batch_size)\n",
    "# print('MAX_LEN:', MAX_LEN)\n",
    "# print('')\n",
    "\n",
    "# bert_io = utils.for_BERT(mode='train', srl=srl, language=language, masking=masking, fnversion=fnversion, pretrained=PRETRAINED_MODEL)\n",
    "# train_ori(retrain=True, pretrained_dir='/disk/data/models/frameBERT/frameBERT_en/')"
   ]
  }
 ],
 "metadata": {
  "kernelspec": {
   "display_name": "Python 3",
   "language": "python",
   "name": "python3"
  },
  "language_info": {
   "codemirror_mode": {
    "name": "ipython",
    "version": 3
   },
   "file_extension": ".py",
   "mimetype": "text/x-python",
   "name": "python",
   "nbconvert_exporter": "python",
   "pygments_lexer": "ipython3",
   "version": "3.6.5"
  }
 },
 "nbformat": 4,
 "nbformat_minor": 2
}
