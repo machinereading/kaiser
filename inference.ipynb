{
 "cells": [
  {
   "cell_type": "code",
   "execution_count": 20,
   "metadata": {},
   "outputs": [],
   "source": [
    "import numpy\n",
    "\n",
    "def get_transition_params(label_strs):\n",
    "    '''\n",
    "    Construct transtion scoresd (0 for allowed, -inf for invalid).\n",
    "    Args:\n",
    "        label_strs: A [num_tags,] sequence of BIO-tags.\n",
    "    Returns:\n",
    "        A [num_tags, num_tags] matrix of transition scores.  \n",
    "    '''\n",
    "    num_tags = len(label_strs)\n",
    "    transition_params = numpy.zeros([num_tags, num_tags], dtype=numpy.float32)\n",
    "    for i, prev_label in enumerate(label_strs):\n",
    "        for j, label in enumerate(label_strs):\n",
    "            if i != j and label[0] == 'I' and not prev_label == 'B' + label[1:]:\n",
    "                transition_params[i,j] = numpy.NINF\n",
    "#             if label == 'X':\n",
    "#                 transition_params[i,j] = numpy.NINF\n",
    "    return transition_params\n",
    "\n",
    "def viterbi_decode(score, transition_params):\n",
    "    \"\"\" Adapted from Tensorflow implementation.\n",
    "    Decode the highest scoring sequence of tags outside of TensorFlow.\n",
    "    This should only be used at test time.\n",
    "    Args:\n",
    "        score: A [seq_len, num_tags] matrix of unary potentials.\n",
    "        transition_params: A [num_tags, num_tags] matrix of binary potentials.\n",
    "    Returns:\n",
    "        viterbi: A [seq_len] list of integers containing the highest scoring tag indicies.\n",
    "        viterbi_score: A float containing the score for the Viterbi sequence.\n",
    "    \"\"\"\n",
    "    trellis = numpy.zeros_like(score)\n",
    "    backpointers = numpy.zeros_like(score, dtype=numpy.int32)\n",
    "    trellis[0] = score[0]\n",
    "    for t in range(1, score.shape[0]):\n",
    "        v = numpy.expand_dims(trellis[t - 1], 1) + transition_params\n",
    "        trellis[t] = score[t] + numpy.max(v, 0)\n",
    "        backpointers[t] = numpy.argmax(v, 0)\n",
    "        viterbi = [numpy.argmax(trellis[-1])]\n",
    "    for bp in reversed(backpointers[1:]):\n",
    "        viterbi.append(bp[viterbi[-1]])\n",
    "        viterbi.reverse()\n",
    "        viterbi_score = numpy.max(trellis[-1])\n",
    "    return viterbi, viterbi_score"
   ]
  }
 ],
 "metadata": {
  "kernelspec": {
   "display_name": "Python 3",
   "language": "python",
   "name": "python3"
  },
  "language_info": {
   "codemirror_mode": {
    "name": "ipython",
    "version": 3
   },
   "file_extension": ".py",
   "mimetype": "text/x-python",
   "name": "python",
   "nbconvert_exporter": "python",
   "pygments_lexer": "ipython3",
   "version": "3.6.5"
  }
 },
 "nbformat": 4,
 "nbformat_minor": 2
}
