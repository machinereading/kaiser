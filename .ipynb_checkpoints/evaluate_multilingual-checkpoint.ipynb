{
 "cells": [
  {
   "cell_type": "code",
   "execution_count": 1,
   "metadata": {},
   "outputs": [
    {
     "name": "stderr",
     "output_type": "stream",
     "text": [
      "Using TensorFlow backend.\n"
     ]
    },
    {
     "name": "stdout",
     "output_type": "stream",
     "text": [
      "### Korean FrameNet ###\n",
      "\t# contact: hahmyg@kaist, hahmyg@gmail.com #\n",
      "\n",
      "\n",
      "\t###DEVICE: cuda:0\n"
     ]
    }
   ],
   "source": [
    "import json\n",
    "import os\n",
    "import parser\n",
    "from src import dataio\n",
    "import glob\n",
    "from sklearn.metrics import accuracy_score\n",
    "from seqeval.metrics import f1_score, precision_score, recall_score\n",
    "import random\n",
    "\n",
    "import torch\n",
    "torch.backends.cudnn.benchmark = True\n",
    "\n",
    "device = torch.device(\"cuda:0\" if torch.cuda.is_available() else \"cpu\")\n",
    "n_gpu = torch.cuda.device_count()\n",
    "if device != \"cpu\":\n",
    "    torch.cuda.set_device(0)"
   ]
  },
  {
   "cell_type": "code",
   "execution_count": 2,
   "metadata": {},
   "outputs": [],
   "source": [
    "try:\n",
    "    dir_path = os.path.dirname(os.path.abspath( __file__ ))\n",
    "except:\n",
    "    dir_path = '.'"
   ]
  },
  {
   "cell_type": "code",
   "execution_count": 3,
   "metadata": {},
   "outputs": [],
   "source": [
    "# 실행시간 측정 함수\n",
    "import time\n",
    "\n",
    "_start_time = time.time()\n",
    "\n",
    "def tic():\n",
    "    global _start_time \n",
    "    _start_time = time.time()\n",
    "\n",
    "def tac():\n",
    "    t_sec = round(time.time() - _start_time)\n",
    "    (t_min, t_sec) = divmod(t_sec,60)\n",
    "    (t_hour,t_min) = divmod(t_min,60)\n",
    "    \n",
    "    result = '{}hour:{}min:{}sec'.format(t_hour,t_min,t_sec)\n",
    "    return result"
   ]
  },
  {
   "cell_type": "code",
   "execution_count": 4,
   "metadata": {},
   "outputs": [],
   "source": [
    "def flat_accuracy(preds, labels):\n",
    "    pred_flat = np.argmax(preds, axis=2).flatten()\n",
    "    labels_flat = labels.flatten()\n",
    "    return np.sum(pred_flat == labels_flat) / len(labels_flat)\n",
    "\n",
    "with open('./data/frame_coreFE_list.json','r') as f:\n",
    "    frame_coreFE = json.load(f)\n",
    "\n",
    "def weighting(frame, args):\n",
    "    weighted_args = []\n",
    "    for arg in args:\n",
    "        weighted_args.append(arg)\n",
    "        if arg in frame_coreFE[frame]:\n",
    "            weighted_args.append(arg)\n",
    "        else:\n",
    "            pass\n",
    "    return weighted_args"
   ]
  },
  {
   "cell_type": "code",
   "execution_count": 5,
   "metadata": {},
   "outputs": [],
   "source": [
    "def test(srl=False, masking=False, viterbi=False, language=False, model_path=False, \n",
    "         result_dir=False, train_lang=False, tgt=False,\n",
    "         pretrained=\"bert-base-multilingual-cased\"):\n",
    "    if not result_dir:\n",
    "        result_dir = '/disk/data/models/'+model_dir.split('/')[-2]+'-result/'\n",
    "    else:\n",
    "        pass\n",
    "    if result_dir[-1] != '/':\n",
    "        result_dir = result_dir+'/'\n",
    "        \n",
    "    if not os.path.exists(result_dir):\n",
    "        os.makedirs(result_dir)\n",
    "        \n",
    "    if not train_lang:\n",
    "        train_lang = language\n",
    "    \n",
    "    fname = fname = result_dir+train_lang+'_for_'+language\n",
    "        \n",
    "    if masking:\n",
    "        fname = fname + '_with_masking_result.txt'\n",
    "    else:\n",
    "        fname = fname +'_result.txt'\n",
    "        \n",
    "    print('### Your result would be saved to:', fname)\n",
    "        \n",
    "    trn, dev, tst = dataio.load_data(srl=srl, language=language, exem=False)\n",
    "    \n",
    "    print('### EVALUATION')\n",
    "    print('MODE:', srl)\n",
    "    print('target LANGUAGE:', language)\n",
    "    print('trained LANGUAGE:', train_lang)\n",
    "    print('Viterbi:', viterbi)\n",
    "    print('masking:', masking)\n",
    "    print('using TGT token:', tgt)\n",
    "    tic()    \n",
    "        \n",
    "    models = glob.glob(model_path+'*/')\n",
    "    \n",
    "#     models = []\n",
    "    \n",
    "    # en_exemplar best\n",
    "#     models.append('/disk/data/models/dict_framenet/enModel-with-exemplar/9/')\n",
    "#     models.append('/disk/data/models/frameBERT/frameBERT_en/')\n",
    "    \n",
    "#     # ko best\n",
    "#     models.append('/disk/data/models/framenet/koModel/35/')\n",
    "    \n",
    "    # mul best\n",
    "#     models.append('/disk/data/models/framenet_old/mulModel-100/39/')\n",
    "#     models.append('/disk/data/models/dict_framenet/mulModel-100/39/')\n",
    "\n",
    "#     mul best\n",
    "#     models.append('/disk/data/models/framenet_old/mulModel-100/39/')\n",
    "#     models.append(model_path+'33/')\n",
    "    \n",
    "    eval_result = []\n",
    "    for m in models:\n",
    "#         m = '/disk/data/models/framenet/enModel-with-exemplar/epoch-8-joint.pt'\n",
    "        print('### model dir:', m)\n",
    "        print('### TARGET LANGUAGE:', language)\n",
    "        torch.cuda.set_device(device)\n",
    "        model = parser.ShallowSemanticParser(srl=srl,gold_pred=True, model_path=m, viterbi=viterbi, \n",
    "                                             masking=masking, language='multilingual', tgt=tgt,\n",
    "                                             pretrained=pretrained)\n",
    "\n",
    "        gold_senses, pred_senses, gold_args, pred_args = [],[],[],[]        \n",
    "        gold_full_all, pred_full_all = [],[]\n",
    "\n",
    "        for instance in tst:\n",
    "            torch.cuda.set_device(device)\n",
    "#             try:\n",
    "            result = model.parser(instance)\n",
    "\n",
    "            gold_sense = [i for i in instance[2] if i != '_'][0]\n",
    "            pred_sense = [i for i in result[0][2] if i != '_'][0]\n",
    "\n",
    "\n",
    "            gold_arg = [i for i in instance[3] if i != 'X']\n",
    "            pred_arg = [i for i in result[0][3]]\n",
    "\n",
    "            gold_senses.append(gold_sense)\n",
    "            pred_senses.append(pred_sense)\n",
    "            \n",
    "            gold_args.append(gold_arg)\n",
    "            pred_args.append(pred_arg)\n",
    "\n",
    "            if srl == 'framenet':\n",
    "                gold_full = []\n",
    "                gold_full.append(gold_sense)\n",
    "                gold_full.append(gold_sense)\n",
    "                weighted_gold_args = weighting(gold_sense, gold_arg)\n",
    "                gold_full += weighted_gold_args\n",
    "\n",
    "                pred_full = []\n",
    "                pred_full.append(pred_sense)\n",
    "                pred_full.append(pred_sense)\n",
    "                weighted_pred_args = weighting(pred_sense, pred_arg)\n",
    "                pred_full += weighted_pred_args\n",
    "\n",
    "                gold_full_all.append(gold_full)\n",
    "                pred_full_all.append(pred_full)\n",
    "                \n",
    "\n",
    "\n",
    "                \n",
    "                    \n",
    "#             except KeyboardInterrupt:\n",
    "#                 raise\n",
    "#             except:\n",
    "#                 print(\"cuda error\")\n",
    "#                 pass\n",
    "            \n",
    "#             break\n",
    "            \n",
    "        acc = accuracy_score(gold_senses, pred_senses)\n",
    "        arg_f1 = f1_score(gold_args, pred_args)\n",
    "        arg_precision = precision_score(gold_args, pred_args)\n",
    "        arg_recall = recall_score(gold_args, pred_args)\n",
    "        \n",
    "\n",
    "#         epoch = m.split('/')[-1].split('-')[1]\n",
    "        epoch = m.split('/')[-2]\n",
    "        print('# EPOCH:', epoch)\n",
    "        print(\"SenseId Accuracy: {}\".format(acc))\n",
    "        print(\"ArgId Precision: {}\".format(arg_precision))\n",
    "        print(\"ArgId Recall: {}\".format(arg_recall))\n",
    "        print(\"ArgId F1: {}\".format(arg_f1))\n",
    "        if srl == 'framenet':\n",
    "            full_f1 = f1_score(gold_full_all, pred_full_all)\n",
    "            full_precision = precision_score(gold_full_all, pred_full_all)\n",
    "            full_recall = recall_score(gold_full_all, pred_full_all)\n",
    "            print(\"full-structure Precision: {}\".format(full_precision))\n",
    "            print(\"full-structure Recall: {}\".format(full_recall))\n",
    "            print(\"full-structure F1: {}\".format(full_f1))\n",
    "        print('-----processing time:', tac())\n",
    "        print('')\n",
    "\n",
    "\n",
    "        model_result = []\n",
    "        model_result.append(epoch)\n",
    "        model_result.append(acc)\n",
    "        model_result.append(arg_precision)\n",
    "        model_result.append(arg_recall)\n",
    "        model_result.append(arg_f1)\n",
    "        if srl == 'framenet':\n",
    "            model_result.append(full_precision)\n",
    "            model_result.append(full_recall)\n",
    "            model_result.append(full_f1)\n",
    "        model_result = [str(i) for i in model_result]\n",
    "        eval_result.append(model_result)\n",
    "    \n",
    "    \n",
    "    with open(fname,'w') as f:\n",
    "        if srl == 'framenet':\n",
    "            f.write('epoch'+'\\t''SenseID'+'\\t'+'Arg_P'+'\\t'+'Arg_R'+'\\t'+'ArgF1'+'\\t'+'full_P'+'\\t'+'full_R'+'\\t'+'full_F1'+'\\n')\n",
    "        else:\n",
    "            f.write('epoch'+'\\t''SenseID'+'\\t'+'Arg_P'+'\\t'+'Arg_R'+'\\t'+'ArgF1'+'\\n')\n",
    "        for i in eval_result:\n",
    "            line = '\\t'.join(i)\n",
    "            f.write(line+'\\n')\n",
    "            \n",
    "        print('\\n\\t### Your result is saved at:', fname)"
   ]
  },
  {
   "cell_type": "markdown",
   "metadata": {},
   "source": [
    "# eval for 25%"
   ]
  },
  {
   "cell_type": "code",
   "execution_count": 6,
   "metadata": {},
   "outputs": [],
   "source": [
    "srl = 'framenet'\n",
    "language = 'ko'"
   ]
  },
  {
   "cell_type": "code",
   "execution_count": 7,
   "metadata": {},
   "outputs": [],
   "source": [
    "# print('\\t###eval for ko Model (masking)')\n",
    "# model_path = '/disk/data/models/framenet/koModel-25/'\n",
    "# result_dir = '/disk/data/models/eval_result-25'\n",
    "\n",
    "# test(srl=srl, language=language, masking=True, viterbi=False, tgt=True, train_lang='ko', \n",
    "#      model_path=model_path, result_dir=result_dir)"
   ]
  },
  {
   "cell_type": "code",
   "execution_count": 7,
   "metadata": {},
   "outputs": [
    {
     "name": "stdout",
     "output_type": "stream",
     "text": [
      "\t###eval for proto-distill (masking)\n",
      "### Your result would be saved to: /disk/data/models/eval_result-25/proto_distilling_for_ko_with_masking_result.txt\n",
      "\n",
      "### loading Korean FrameNet 1.1 data...\n",
      "\t# of instances in training data: 17838\n",
      "\t# of instances in dev data: 2548\n",
      "\t# of instances in test data: 5097\n",
      "# of instances in trn: 17838\n",
      "# of instances in dev: 2548\n",
      "# of instances in tst: 5097\n",
      "data example: [['태풍', 'Hugo가', '남긴', '피해들과', '회사', '내', '몇몇', '주요', '부서들의', '저조한', '실적들을', '반영하여,', 'Aetna', 'Life', 'and', 'Casualty', 'Co.의', '3분기', '<tgt>', '순이익이', '</tgt>', '182.6', '백만', '달러', '또는', '주당', '1.63', '달러로', '22', '%', '하락하였다.'], ['_', '_', '_', '_', '_', '_', '_', '_', '_', '_', '_', '_', '_', '_', '_', '_', '_', '_', '_', '이익.n', '_', '_', '_', '_', '_', '_', '_', '_', '_', '_', '_'], ['_', '_', '_', '_', '_', '_', '_', '_', '_', '_', '_', '_', '_', '_', '_', '_', '_', '_', '_', 'Earnings_and_losses', '_', '_', '_', '_', '_', '_', '_', '_', '_', '_', '_'], ['O', 'O', 'O', 'O', 'O', 'O', 'O', 'O', 'O', 'O', 'O', 'O', 'B-Earner', 'I-Earner', 'I-Earner', 'I-Earner', 'I-Earner', 'B-Time', 'X', 'O', 'X', 'O', 'O', 'O', 'O', 'O', 'O', 'O', 'O', 'O', 'O']]\n",
      "### EVALUATION\n",
      "MODE: framenet\n",
      "target LANGUAGE: ko\n",
      "trained LANGUAGE: proto_distilling\n",
      "Viterbi: False\n",
      "masking: True\n",
      "using TGT token: True\n",
      "### model dir: /disk/data/models/framenet/proto_distilling-25/33/\n",
      "### TARGET LANGUAGE: ko\n",
      "srl model: framenet\n",
      "language: multilingual\n",
      "version: 1.1\n",
      "using viterbi: False\n",
      "using masking: True\n",
      "pretrained BERT: bert-base-multilingual-cased\n",
      "using TGT special token: True\n",
      "used dictionary:\n",
      "\t /disk/kaiser/kaiser/src/../koreanframenet/resource/info/mul_lu2idx.json\n",
      "\t /disk/kaiser/kaiser/src/../koreanframenet/resource/info/mul_lufrmap.json\n",
      "\t /disk/kaiser/kaiser/src/../koreanframenet/resource/info/mul_bio_frargmap.json\n",
      "...loaded model path: /disk/data/models/framenet/proto_distilling-25/33/\n",
      "/disk/data/models/framenet/proto_distilling-25/33/\n",
      "...model is loaded\n"
     ]
    },
    {
     "name": "stderr",
     "output_type": "stream",
     "text": [
      "../kaiser/src/utils.py:309: UserWarning: Implicit dimension choice for softmax has been deprecated. Change the call to include dim=X as an argument.\n",
      "  pred_logits = sm(masked_logit).view(1,-1)\n"
     ]
    },
    {
     "name": "stdout",
     "output_type": "stream",
     "text": [
      "# EPOCH: 33\n",
      "SenseId Accuracy: 0.786541102609378\n",
      "ArgId Precision: 0.32243908072525695\n",
      "ArgId Recall: 0.3454163058270444\n",
      "ArgId F1: 0.33353243340102734\n",
      "full-structure Precision: 0.5107556160653506\n",
      "full-structure Recall: 0.530922728559298\n",
      "full-structure F1: 0.5206439525362571\n",
      "-----processing time: 0hour:6min:2sec\n",
      "\n",
      "\n",
      "\t### Your result is saved at: /disk/data/models/eval_result-25/proto_distilling_for_ko_with_masking_result.txt\n"
     ]
    }
   ],
   "source": [
    "print('\\t###eval for proto-distill (masking)')\n",
    "model_path = '/disk/data/models/framenet/proto_distilling-25/'\n",
    "result_dir = '/disk/data/models/eval_result-25'\n",
    "test(srl=srl, language=language, masking=True, viterbi=False, tgt=True, train_lang='proto_distilling', \n",
    "     model_path=model_path, result_dir=result_dir)"
   ]
  },
  {
   "cell_type": "code",
   "execution_count": 8,
   "metadata": {},
   "outputs": [
    {
     "name": "stdout",
     "output_type": "stream",
     "text": [
      "\t###multilingual-for-ko (masking)\n",
      "### Your result would be saved to: /disk/data/models/eval_result-25/mul_for_ko_with_masking_result.txt\n",
      "\n",
      "### loading Korean FrameNet 1.1 data...\n",
      "\t# of instances in training data: 17838\n",
      "\t# of instances in dev data: 2548\n",
      "\t# of instances in test data: 5097\n",
      "# of instances in trn: 17838\n",
      "# of instances in dev: 2548\n",
      "# of instances in tst: 5097\n",
      "data example: [['태풍', 'Hugo가', '남긴', '피해들과', '회사', '내', '몇몇', '주요', '부서들의', '저조한', '실적들을', '반영하여,', 'Aetna', 'Life', 'and', 'Casualty', 'Co.의', '3분기', '<tgt>', '순이익이', '</tgt>', '182.6', '백만', '달러', '또는', '주당', '1.63', '달러로', '22', '%', '하락하였다.'], ['_', '_', '_', '_', '_', '_', '_', '_', '_', '_', '_', '_', '_', '_', '_', '_', '_', '_', '_', '이익.n', '_', '_', '_', '_', '_', '_', '_', '_', '_', '_', '_'], ['_', '_', '_', '_', '_', '_', '_', '_', '_', '_', '_', '_', '_', '_', '_', '_', '_', '_', '_', 'Earnings_and_losses', '_', '_', '_', '_', '_', '_', '_', '_', '_', '_', '_'], ['O', 'O', 'O', 'O', 'O', 'O', 'O', 'O', 'O', 'O', 'O', 'O', 'B-Earner', 'I-Earner', 'I-Earner', 'I-Earner', 'I-Earner', 'B-Time', 'X', 'O', 'X', 'O', 'O', 'O', 'O', 'O', 'O', 'O', 'O', 'O', 'O']]\n",
      "### EVALUATION\n",
      "MODE: framenet\n",
      "target LANGUAGE: ko\n",
      "trained LANGUAGE: mul\n",
      "Viterbi: False\n",
      "masking: True\n",
      "using TGT token: True\n",
      "### model dir: /disk/data/models/framenet/mulModel-25/33/\n",
      "### TARGET LANGUAGE: ko\n",
      "srl model: framenet\n",
      "language: multilingual\n",
      "version: 1.1\n",
      "using viterbi: False\n",
      "using masking: True\n",
      "pretrained BERT: bert-base-multilingual-cased\n",
      "using TGT special token: True\n",
      "used dictionary:\n",
      "\t /disk/kaiser/kaiser/src/../koreanframenet/resource/info/mul_lu2idx.json\n",
      "\t /disk/kaiser/kaiser/src/../koreanframenet/resource/info/mul_lufrmap.json\n",
      "\t /disk/kaiser/kaiser/src/../koreanframenet/resource/info/mul_bio_frargmap.json\n",
      "...loaded model path: /disk/data/models/framenet/mulModel-25/33/\n",
      "/disk/data/models/framenet/mulModel-25/33/\n",
      "...model is loaded\n"
     ]
    },
    {
     "name": "stderr",
     "output_type": "stream",
     "text": [
      "../kaiser/src/utils.py:309: UserWarning: Implicit dimension choice for softmax has been deprecated. Change the call to include dim=X as an argument.\n",
      "  pred_logits = sm(masked_logit).view(1,-1)\n"
     ]
    },
    {
     "name": "stdout",
     "output_type": "stream",
     "text": [
      "# EPOCH: 33\n",
      "SenseId Accuracy: 0.7881106533254856\n",
      "ArgId Precision: 0.33014239559650593\n",
      "ArgId Recall: 0.3413336632438451\n",
      "ArgId F1: 0.33564476885644773\n",
      "full-structure Precision: 0.5194742303701142\n",
      "full-structure Recall: 0.5313472969148033\n",
      "full-structure F1: 0.5253436876902089\n",
      "-----processing time: 0hour:6min:14sec\n",
      "\n",
      "\n",
      "\t### Your result is saved at: /disk/data/models/eval_result-25/mul_for_ko_with_masking_result.txt\n"
     ]
    }
   ],
   "source": [
    "# print('\\t###multilingual-for-ko (masking)')\n",
    "# model_path = '/disk/data/models/framenet/mulModel-25/'\n",
    "# result_dir = '/disk/data/models/eval_result-25'\n",
    "# test(srl=srl, language=language, masking=True, viterbi=False, tgt=True, train_lang='mul', \n",
    "#      model_path=model_path, result_dir=result_dir)"
   ]
  },
  {
   "cell_type": "code",
   "execution_count": 10,
   "metadata": {},
   "outputs": [],
   "source": [
    "# print('\\t###eval for ko Model (no masking)')\n",
    "# model_path = '/disk/data/models/framenet/koModel-25/'\n",
    "# result_dir = '/disk/data/models/eval_result-25'\n",
    "\n",
    "# test(srl=srl, language=language, masking=False, viterbi=False, tgt=True, train_lang='ko', \n",
    "#      model_path=model_path, result_dir=result_dir)"
   ]
  },
  {
   "cell_type": "code",
   "execution_count": 9,
   "metadata": {},
   "outputs": [
    {
     "name": "stdout",
     "output_type": "stream",
     "text": [
      "\t###eval for proto-distill (no masking)\n",
      "### Your result would be saved to: /disk/data/models/eval_result-25/proto_distilling_for_ko_result.txt\n",
      "\n",
      "### loading Korean FrameNet 1.1 data...\n",
      "\t# of instances in training data: 17838\n",
      "\t# of instances in dev data: 2548\n",
      "\t# of instances in test data: 5097\n",
      "# of instances in trn: 17838\n",
      "# of instances in dev: 2548\n",
      "# of instances in tst: 5097\n",
      "data example: [['태풍', 'Hugo가', '남긴', '피해들과', '회사', '내', '몇몇', '주요', '부서들의', '저조한', '실적들을', '반영하여,', 'Aetna', 'Life', 'and', 'Casualty', 'Co.의', '3분기', '<tgt>', '순이익이', '</tgt>', '182.6', '백만', '달러', '또는', '주당', '1.63', '달러로', '22', '%', '하락하였다.'], ['_', '_', '_', '_', '_', '_', '_', '_', '_', '_', '_', '_', '_', '_', '_', '_', '_', '_', '_', '이익.n', '_', '_', '_', '_', '_', '_', '_', '_', '_', '_', '_'], ['_', '_', '_', '_', '_', '_', '_', '_', '_', '_', '_', '_', '_', '_', '_', '_', '_', '_', '_', 'Earnings_and_losses', '_', '_', '_', '_', '_', '_', '_', '_', '_', '_', '_'], ['O', 'O', 'O', 'O', 'O', 'O', 'O', 'O', 'O', 'O', 'O', 'O', 'B-Earner', 'I-Earner', 'I-Earner', 'I-Earner', 'I-Earner', 'B-Time', 'X', 'O', 'X', 'O', 'O', 'O', 'O', 'O', 'O', 'O', 'O', 'O', 'O']]\n",
      "### EVALUATION\n",
      "MODE: framenet\n",
      "target LANGUAGE: ko\n",
      "trained LANGUAGE: proto_distilling\n",
      "Viterbi: False\n",
      "masking: False\n",
      "using TGT token: True\n",
      "### model dir: /disk/data/models/framenet/proto_distilling-25/33/\n",
      "### TARGET LANGUAGE: ko\n",
      "srl model: framenet\n",
      "language: multilingual\n",
      "version: 1.1\n",
      "using viterbi: False\n",
      "using masking: False\n",
      "pretrained BERT: bert-base-multilingual-cased\n",
      "using TGT special token: True\n",
      "used dictionary:\n",
      "\t /disk/kaiser/kaiser/src/../koreanframenet/resource/info/mul_lu2idx.json\n",
      "\t /disk/kaiser/kaiser/src/../koreanframenet/resource/info/mul_lufrmap.json\n",
      "\t /disk/kaiser/kaiser/src/../koreanframenet/resource/info/mul_bio_frargmap.json\n",
      "...loaded model path: /disk/data/models/framenet/proto_distilling-25/33/\n",
      "/disk/data/models/framenet/proto_distilling-25/33/\n",
      "...model is loaded\n"
     ]
    },
    {
     "name": "stderr",
     "output_type": "stream",
     "text": [
      "../kaiser/src/utils.py:309: UserWarning: Implicit dimension choice for softmax has been deprecated. Change the call to include dim=X as an argument.\n",
      "  pred_logits = sm(masked_logit).view(1,-1)\n"
     ]
    },
    {
     "name": "stdout",
     "output_type": "stream",
     "text": [
      "# EPOCH: 33\n",
      "SenseId Accuracy: 0.5226603884638023\n",
      "ArgId Precision: 0.2834116856950974\n",
      "ArgId Recall: 0.31325003092911047\n",
      "ArgId F1: 0.2975847681730035\n",
      "full-structure Precision: 0.37798594847775174\n",
      "full-structure Recall: 0.39973110670818\n",
      "full-structure F1: 0.3885545276335247\n",
      "-----processing time: 0hour:6min:24sec\n",
      "\n",
      "\n",
      "\t### Your result is saved at: /disk/data/models/eval_result-25/proto_distilling_for_ko_result.txt\n"
     ]
    }
   ],
   "source": [
    "# print('\\t###eval for proto-distill (no masking)')\n",
    "# model_path = '/disk/data/models/framenet/proto_distilling-25/'\n",
    "# result_dir = '/disk/data/models/eval_result-25'\n",
    "# test(srl=srl, language=language, masking=False, viterbi=False, tgt=True, train_lang='proto_distilling', \n",
    "#      model_path=model_path, result_dir=result_dir)"
   ]
  },
  {
   "cell_type": "code",
   "execution_count": 10,
   "metadata": {},
   "outputs": [
    {
     "name": "stdout",
     "output_type": "stream",
     "text": [
      "\t###multilingual-for-ko (no masking)\n",
      "### Your result would be saved to: /disk/data/models/eval_result-25/mul_for_ko_result.txt\n",
      "\n",
      "### loading Korean FrameNet 1.1 data...\n",
      "\t# of instances in training data: 17838\n",
      "\t# of instances in dev data: 2548\n",
      "\t# of instances in test data: 5097\n",
      "# of instances in trn: 17838\n",
      "# of instances in dev: 2548\n",
      "# of instances in tst: 5097\n",
      "data example: [['태풍', 'Hugo가', '남긴', '피해들과', '회사', '내', '몇몇', '주요', '부서들의', '저조한', '실적들을', '반영하여,', 'Aetna', 'Life', 'and', 'Casualty', 'Co.의', '3분기', '<tgt>', '순이익이', '</tgt>', '182.6', '백만', '달러', '또는', '주당', '1.63', '달러로', '22', '%', '하락하였다.'], ['_', '_', '_', '_', '_', '_', '_', '_', '_', '_', '_', '_', '_', '_', '_', '_', '_', '_', '_', '이익.n', '_', '_', '_', '_', '_', '_', '_', '_', '_', '_', '_'], ['_', '_', '_', '_', '_', '_', '_', '_', '_', '_', '_', '_', '_', '_', '_', '_', '_', '_', '_', 'Earnings_and_losses', '_', '_', '_', '_', '_', '_', '_', '_', '_', '_', '_'], ['O', 'O', 'O', 'O', 'O', 'O', 'O', 'O', 'O', 'O', 'O', 'O', 'B-Earner', 'I-Earner', 'I-Earner', 'I-Earner', 'I-Earner', 'B-Time', 'X', 'O', 'X', 'O', 'O', 'O', 'O', 'O', 'O', 'O', 'O', 'O', 'O']]\n",
      "### EVALUATION\n",
      "MODE: framenet\n",
      "target LANGUAGE: ko\n",
      "trained LANGUAGE: mul\n",
      "Viterbi: False\n",
      "masking: False\n",
      "using TGT token: True\n",
      "### model dir: /disk/data/models/framenet/mulModel-25/33/\n",
      "### TARGET LANGUAGE: ko\n",
      "srl model: framenet\n",
      "language: multilingual\n",
      "version: 1.1\n",
      "using viterbi: False\n",
      "using masking: False\n",
      "pretrained BERT: bert-base-multilingual-cased\n",
      "using TGT special token: True\n",
      "used dictionary:\n",
      "\t /disk/kaiser/kaiser/src/../koreanframenet/resource/info/mul_lu2idx.json\n",
      "\t /disk/kaiser/kaiser/src/../koreanframenet/resource/info/mul_lufrmap.json\n",
      "\t /disk/kaiser/kaiser/src/../koreanframenet/resource/info/mul_bio_frargmap.json\n",
      "...loaded model path: /disk/data/models/framenet/mulModel-25/33/\n",
      "/disk/data/models/framenet/mulModel-25/33/\n",
      "...model is loaded\n"
     ]
    },
    {
     "name": "stderr",
     "output_type": "stream",
     "text": [
      "../kaiser/src/utils.py:309: UserWarning: Implicit dimension choice for softmax has been deprecated. Change the call to include dim=X as an argument.\n",
      "  pred_logits = sm(masked_logit).view(1,-1)\n"
     ]
    },
    {
     "name": "stdout",
     "output_type": "stream",
     "text": [
      "# EPOCH: 33\n",
      "SenseId Accuracy: 0.5095154012164018\n",
      "ArgId Precision: 0.28463152985074625\n",
      "ArgId Recall: 0.3019918347148336\n",
      "ArgId F1: 0.2930548052103968\n",
      "full-structure Precision: 0.37438991323210413\n",
      "full-structure Recall: 0.39081517124257004\n",
      "full-structure F1: 0.3824262567511425\n",
      "-----processing time: 0hour:6min:12sec\n",
      "\n",
      "\n",
      "\t### Your result is saved at: /disk/data/models/eval_result-25/mul_for_ko_result.txt\n"
     ]
    }
   ],
   "source": [
    "# print('\\t###multilingual-for-ko (no masking)')\n",
    "# model_path = '/disk/data/models/framenet/mulModel-25/'\n",
    "# result_dir = '/disk/data/models/eval_result-25'\n",
    "# test(srl=srl, language=language, masking=False, viterbi=False, tgt=True, train_lang='mul', \n",
    "#      model_path=model_path, result_dir=result_dir)"
   ]
  },
  {
   "cell_type": "markdown",
   "metadata": {},
   "source": [
    "# eval for 100 (ko)"
   ]
  },
  {
   "cell_type": "code",
   "execution_count": 13,
   "metadata": {},
   "outputs": [],
   "source": [
    "srl = 'framenet'"
   ]
  },
  {
   "cell_type": "code",
   "execution_count": 14,
   "metadata": {},
   "outputs": [],
   "source": [
    "# srl = 'framenet'\n",
    "# language = 'ko'\n",
    "# print('\\t###eval for ko Model (masking)')\n",
    "# model_path = '/disk/data/models/framenet/koModel/'\n",
    "# result_dir = '/disk/data/models/eval_result-100'\n",
    "# test(srl=srl, language=language, masking=True, viterbi=False, tgt=True, train_lang='ko', \n",
    "#      model_path=model_path, result_dir=result_dir)"
   ]
  },
  {
   "cell_type": "code",
   "execution_count": 15,
   "metadata": {},
   "outputs": [],
   "source": [
    "# print('\\t###eval for proto-distill (masking)')\n",
    "# language = 'ko'\n",
    "# model_path = '/disk/data/models/framenet/proto_distilling/'\n",
    "# result_dir = '/disk/data/models/eval_result-100'\n",
    "# test(srl=srl, language=language, masking=True, viterbi=False, tgt=True, train_lang='proto_distilling', \n",
    "#      model_path=model_path, result_dir=result_dir)"
   ]
  },
  {
   "cell_type": "code",
   "execution_count": 16,
   "metadata": {},
   "outputs": [],
   "source": [
    "# print('\\t###multilingual-for-ko (masking)')\n",
    "# language = 'ko'\n",
    "# model_path = '/disk/data/models/dict_framenet/mulModel-100/'\n",
    "# result_dir = '/disk/data/models/eval_result-100'\n",
    "# test(srl=srl, language=language, masking=True, viterbi=False, tgt=True, train_lang='mul', \n",
    "#      model_path=model_path, result_dir=result_dir)"
   ]
  },
  {
   "cell_type": "code",
   "execution_count": 17,
   "metadata": {},
   "outputs": [],
   "source": [
    "# print('\\t###eval for ko Model (no masking)')\n",
    "# model_path = '/disk/data/models/framenet/koModel/'\n",
    "# result_dir = '/disk/data/models/eval_result-100'\n",
    "# test(srl=srl, language=language, masking=False, viterbi=False, tgt=True, train_lang='ko', \n",
    "#      model_path=model_path, result_dir=result_dir)"
   ]
  },
  {
   "cell_type": "code",
   "execution_count": 18,
   "metadata": {},
   "outputs": [],
   "source": [
    "# print('\\t###eval for proto-distill (no masking)')\n",
    "# model_path = '/disk/data/models/framenet/proto_distilling/'\n",
    "# result_dir = '/disk/data/models/eval_result-100'\n",
    "# test(srl=srl, language=language, masking=False, viterbi=False, tgt=True, train_lang='proto_distilling', \n",
    "#      model_path=model_path, result_dir=result_dir)"
   ]
  },
  {
   "cell_type": "code",
   "execution_count": 19,
   "metadata": {},
   "outputs": [],
   "source": [
    "# print('\\t###multilingual-for-ko (no masking)')\n",
    "# # model_path = '/disk/data/models/framenet/mulModel-100/'\n",
    "# model_path = '/disk/data/models/framenet/mulModel-100/'\n",
    "# result_dir = '/disk/data/models/eval_result-100'\n",
    "# test(srl=srl, language=language, masking=False, viterbi=False, tgt=True, train_lang='mul', \n",
    "#      model_path=model_path, result_dir=result_dir)"
   ]
  },
  {
   "cell_type": "markdown",
   "metadata": {},
   "source": [
    "## eval for 10%"
   ]
  },
  {
   "cell_type": "code",
   "execution_count": 20,
   "metadata": {},
   "outputs": [],
   "source": [
    "# print('\\t###eval for ko Model (masking)')\n",
    "# language = 'ko'\n",
    "# model_path = '/disk/data/models/framenet/koModel-10/'\n",
    "# result_dir = '/disk/data/models/eval_result-10'\n",
    "# test(srl=srl, language=language, masking=True, viterbi=False, tgt=True, train_lang='ko', \n",
    "#      model_path=model_path, result_dir=result_dir)"
   ]
  },
  {
   "cell_type": "code",
   "execution_count": 21,
   "metadata": {},
   "outputs": [
    {
     "name": "stdout",
     "output_type": "stream",
     "text": [
      "\t###eval for proto-distill (masking)\n",
      "### Your result would be saved to: /disk/data/models/eval_result-10/proto_distilling_for_ko_with_masking_result.txt\n",
      "\n",
      "### loading Korean FrameNet 1.1 data...\n",
      "\t# of instances in training data: 17838\n",
      "\t# of instances in dev data: 2548\n",
      "\t# of instances in test data: 5097\n",
      "# of instances in trn: 17838\n",
      "# of instances in dev: 2548\n",
      "# of instances in tst: 5097\n",
      "data example: [['태풍', 'Hugo가', '남긴', '피해들과', '회사', '내', '몇몇', '주요', '부서들의', '저조한', '실적들을', '반영하여,', 'Aetna', 'Life', 'and', 'Casualty', 'Co.의', '3분기', '<tgt>', '순이익이', '</tgt>', '182.6', '백만', '달러', '또는', '주당', '1.63', '달러로', '22', '%', '하락하였다.'], ['_', '_', '_', '_', '_', '_', '_', '_', '_', '_', '_', '_', '_', '_', '_', '_', '_', '_', '_', '이익.n', '_', '_', '_', '_', '_', '_', '_', '_', '_', '_', '_'], ['_', '_', '_', '_', '_', '_', '_', '_', '_', '_', '_', '_', '_', '_', '_', '_', '_', '_', '_', 'Earnings_and_losses', '_', '_', '_', '_', '_', '_', '_', '_', '_', '_', '_'], ['O', 'O', 'O', 'O', 'O', 'O', 'O', 'O', 'O', 'O', 'O', 'O', 'B-Earner', 'I-Earner', 'I-Earner', 'I-Earner', 'I-Earner', 'B-Time', 'X', 'O', 'X', 'O', 'O', 'O', 'O', 'O', 'O', 'O', 'O', 'O', 'O']]\n",
      "### EVALUATION\n",
      "MODE: framenet\n",
      "target LANGUAGE: ko\n",
      "trained LANGUAGE: proto_distilling\n",
      "Viterbi: False\n",
      "masking: True\n",
      "using TGT token: True\n",
      "### model dir: /disk/data/models/framenet/proto_distilling-10/33/\n",
      "### TARGET LANGUAGE: ko\n",
      "srl model: framenet\n",
      "language: multilingual\n",
      "version: 1.1\n",
      "using viterbi: False\n",
      "using masking: True\n",
      "pretrained BERT: bert-base-multilingual-cased\n",
      "using TGT special token: True\n",
      "used dictionary:\n",
      "\t /disk/kaiser/kaiser/src/../koreanframenet/resource/info/mul_lu2idx.json\n",
      "\t /disk/kaiser/kaiser/src/../koreanframenet/resource/info/mul_lufrmap.json\n",
      "\t /disk/kaiser/kaiser/src/../koreanframenet/resource/info/mul_bio_frargmap.json\n",
      "...loaded model path: /disk/data/models/framenet/proto_distilling-10/33/\n",
      "/disk/data/models/framenet/proto_distilling-10/33/\n",
      "...model is loaded\n"
     ]
    },
    {
     "name": "stderr",
     "output_type": "stream",
     "text": [
      "../kaiser/src/utils.py:309: UserWarning: Implicit dimension choice for softmax has been deprecated. Change the call to include dim=X as an argument.\n",
      "  pred_logits = sm(masked_logit).view(1,-1)\n"
     ]
    },
    {
     "name": "stdout",
     "output_type": "stream",
     "text": [
      "# EPOCH: 33\n",
      "SenseId Accuracy: 0.7751618599175986\n",
      "ArgId Precision: 0.27613717551798045\n",
      "ArgId Recall: 0.28689842880118765\n",
      "ArgId F1: 0.2814149626843031\n",
      "full-structure Precision: 0.48240022172949004\n",
      "full-structure Recall: 0.4926408151712426\n",
      "full-structure F1: 0.48746674135275175\n",
      "-----processing time: 0hour:6min:1sec\n",
      "\n",
      "\n",
      "\t### Your result is saved at: /disk/data/models/eval_result-10/proto_distilling_for_ko_with_masking_result.txt\n"
     ]
    }
   ],
   "source": [
    "print('\\t###eval for proto-distill (masking)')\n",
    "language = 'ko'\n",
    "model_path = '/disk/data/models/framenet/proto_distilling-10/'\n",
    "result_dir = '/disk/data/models/eval_result-10'\n",
    "test(srl=srl, language=language, masking=True, viterbi=False, tgt=True, train_lang='proto_distilling', \n",
    "     model_path=model_path, result_dir=result_dir)"
   ]
  },
  {
   "cell_type": "code",
   "execution_count": 22,
   "metadata": {},
   "outputs": [
    {
     "name": "stdout",
     "output_type": "stream",
     "text": [
      "\t###multilingual-for-ko (masking)\n",
      "### Your result would be saved to: /disk/data/models/eval_result-10/mul_for_ko_with_masking_result.txt\n",
      "\n",
      "### loading Korean FrameNet 1.1 data...\n",
      "\t# of instances in training data: 17838\n",
      "\t# of instances in dev data: 2548\n",
      "\t# of instances in test data: 5097\n",
      "# of instances in trn: 17838\n",
      "# of instances in dev: 2548\n",
      "# of instances in tst: 5097\n",
      "data example: [['태풍', 'Hugo가', '남긴', '피해들과', '회사', '내', '몇몇', '주요', '부서들의', '저조한', '실적들을', '반영하여,', 'Aetna', 'Life', 'and', 'Casualty', 'Co.의', '3분기', '<tgt>', '순이익이', '</tgt>', '182.6', '백만', '달러', '또는', '주당', '1.63', '달러로', '22', '%', '하락하였다.'], ['_', '_', '_', '_', '_', '_', '_', '_', '_', '_', '_', '_', '_', '_', '_', '_', '_', '_', '_', '이익.n', '_', '_', '_', '_', '_', '_', '_', '_', '_', '_', '_'], ['_', '_', '_', '_', '_', '_', '_', '_', '_', '_', '_', '_', '_', '_', '_', '_', '_', '_', '_', 'Earnings_and_losses', '_', '_', '_', '_', '_', '_', '_', '_', '_', '_', '_'], ['O', 'O', 'O', 'O', 'O', 'O', 'O', 'O', 'O', 'O', 'O', 'O', 'B-Earner', 'I-Earner', 'I-Earner', 'I-Earner', 'I-Earner', 'B-Time', 'X', 'O', 'X', 'O', 'O', 'O', 'O', 'O', 'O', 'O', 'O', 'O', 'O']]\n",
      "### EVALUATION\n",
      "MODE: framenet\n",
      "target LANGUAGE: ko\n",
      "trained LANGUAGE: mul\n",
      "Viterbi: False\n",
      "masking: True\n",
      "using TGT token: True\n",
      "### model dir: /disk/data/models/framenet/mulModel-10/33/\n",
      "### TARGET LANGUAGE: ko\n",
      "srl model: framenet\n",
      "language: multilingual\n",
      "version: 1.1\n",
      "using viterbi: False\n",
      "using masking: True\n",
      "pretrained BERT: bert-base-multilingual-cased\n",
      "using TGT special token: True\n",
      "used dictionary:\n",
      "\t /disk/kaiser/kaiser/src/../koreanframenet/resource/info/mul_lu2idx.json\n",
      "\t /disk/kaiser/kaiser/src/../koreanframenet/resource/info/mul_lufrmap.json\n",
      "\t /disk/kaiser/kaiser/src/../koreanframenet/resource/info/mul_bio_frargmap.json\n",
      "...loaded model path: /disk/data/models/framenet/mulModel-10/33/\n",
      "/disk/data/models/framenet/mulModel-10/33/\n",
      "...model is loaded\n"
     ]
    },
    {
     "name": "stderr",
     "output_type": "stream",
     "text": [
      "../kaiser/src/utils.py:309: UserWarning: Implicit dimension choice for softmax has been deprecated. Change the call to include dim=X as an argument.\n",
      "  pred_logits = sm(masked_logit).view(1,-1)\n"
     ]
    },
    {
     "name": "stdout",
     "output_type": "stream",
     "text": [
      "# EPOCH: 33\n",
      "SenseId Accuracy: 0.7733961153619776\n",
      "ArgId Precision: 0.27184582236054583\n",
      "ArgId Recall: 0.2809600395892614\n",
      "ArgId F1: 0.276327797043256\n",
      "full-structure Precision: 0.48000831543205597\n",
      "full-structure Recall: 0.49016416643079536\n",
      "full-structure F1: 0.4850330847600042\n",
      "-----processing time: 0hour:6min:15sec\n",
      "\n",
      "\n",
      "\t### Your result is saved at: /disk/data/models/eval_result-10/mul_for_ko_with_masking_result.txt\n"
     ]
    }
   ],
   "source": [
    "# print('\\t###multilingual-for-ko (masking)')\n",
    "# language = 'ko'\n",
    "# model_path = '/disk/data/models/framenet/mulModel-10/'\n",
    "# result_dir = '/disk/data/models/eval_result-10'\n",
    "# test(srl=srl, language=language, masking=True, viterbi=False, tgt=True, train_lang='mul', \n",
    "#      model_path=model_path, result_dir=result_dir)"
   ]
  },
  {
   "cell_type": "code",
   "execution_count": 23,
   "metadata": {},
   "outputs": [],
   "source": [
    "# print('\\t###eval for ko Model (no masking)')\n",
    "# language = 'ko'\n",
    "# model_path = '/disk/data/models/framenet/koModel-10/'\n",
    "# result_dir = '/disk/data/models/eval_result-10'\n",
    "# test(srl=srl, language=language, masking=False, viterbi=False, tgt=True, train_lang='ko', \n",
    "#      model_path=model_path, result_dir=result_dir)"
   ]
  },
  {
   "cell_type": "code",
   "execution_count": 24,
   "metadata": {},
   "outputs": [
    {
     "name": "stdout",
     "output_type": "stream",
     "text": [
      "\t###eval for proto-distill (no masking)\n",
      "### Your result would be saved to: /disk/data/models/eval_result-10/proto_distilling_for_ko_result.txt\n",
      "\n",
      "### loading Korean FrameNet 1.1 data...\n",
      "\t# of instances in training data: 17838\n",
      "\t# of instances in dev data: 2548\n",
      "\t# of instances in test data: 5097\n",
      "# of instances in trn: 17838\n",
      "# of instances in dev: 2548\n",
      "# of instances in tst: 5097\n",
      "data example: [['태풍', 'Hugo가', '남긴', '피해들과', '회사', '내', '몇몇', '주요', '부서들의', '저조한', '실적들을', '반영하여,', 'Aetna', 'Life', 'and', 'Casualty', 'Co.의', '3분기', '<tgt>', '순이익이', '</tgt>', '182.6', '백만', '달러', '또는', '주당', '1.63', '달러로', '22', '%', '하락하였다.'], ['_', '_', '_', '_', '_', '_', '_', '_', '_', '_', '_', '_', '_', '_', '_', '_', '_', '_', '_', '이익.n', '_', '_', '_', '_', '_', '_', '_', '_', '_', '_', '_'], ['_', '_', '_', '_', '_', '_', '_', '_', '_', '_', '_', '_', '_', '_', '_', '_', '_', '_', '_', 'Earnings_and_losses', '_', '_', '_', '_', '_', '_', '_', '_', '_', '_', '_'], ['O', 'O', 'O', 'O', 'O', 'O', 'O', 'O', 'O', 'O', 'O', 'O', 'B-Earner', 'I-Earner', 'I-Earner', 'I-Earner', 'I-Earner', 'B-Time', 'X', 'O', 'X', 'O', 'O', 'O', 'O', 'O', 'O', 'O', 'O', 'O', 'O']]\n",
      "### EVALUATION\n",
      "MODE: framenet\n",
      "target LANGUAGE: ko\n",
      "trained LANGUAGE: proto_distilling\n",
      "Viterbi: False\n",
      "masking: False\n",
      "using TGT token: True\n",
      "### model dir: /disk/data/models/framenet/proto_distilling-10/33/\n",
      "### TARGET LANGUAGE: ko\n",
      "srl model: framenet\n",
      "language: multilingual\n",
      "version: 1.1\n",
      "using viterbi: False\n",
      "using masking: False\n",
      "pretrained BERT: bert-base-multilingual-cased\n",
      "using TGT special token: True\n",
      "used dictionary:\n",
      "\t /disk/kaiser/kaiser/src/../koreanframenet/resource/info/mul_lu2idx.json\n",
      "\t /disk/kaiser/kaiser/src/../koreanframenet/resource/info/mul_lufrmap.json\n",
      "\t /disk/kaiser/kaiser/src/../koreanframenet/resource/info/mul_bio_frargmap.json\n",
      "...loaded model path: /disk/data/models/framenet/proto_distilling-10/33/\n",
      "/disk/data/models/framenet/proto_distilling-10/33/\n",
      "...model is loaded\n"
     ]
    },
    {
     "name": "stderr",
     "output_type": "stream",
     "text": [
      "../kaiser/src/utils.py:309: UserWarning: Implicit dimension choice for softmax has been deprecated. Change the call to include dim=X as an argument.\n",
      "  pred_logits = sm(masked_logit).view(1,-1)\n"
     ]
    },
    {
     "name": "stdout",
     "output_type": "stream",
     "text": [
      "# EPOCH: 33\n",
      "SenseId Accuracy: 0.42750637629978416\n",
      "ArgId Precision: 0.22159655515071217\n",
      "ArgId Recall: 0.24829889892366697\n",
      "ArgId F1: 0.2341890315052509\n",
      "full-structure Precision: 0.2993601161026453\n",
      "full-structure Recall: 0.3211151995471271\n",
      "full-structure F1: 0.30985626984397935\n",
      "-----processing time: 0hour:6min:13sec\n",
      "\n",
      "\n",
      "\t### Your result is saved at: /disk/data/models/eval_result-10/proto_distilling_for_ko_result.txt\n"
     ]
    }
   ],
   "source": [
    "# print('\\t###eval for proto-distill (no masking)')\n",
    "# language = 'ko'\n",
    "# model_path = '/disk/data/models/framenet/proto_distilling-10/'\n",
    "# result_dir = '/disk/data/models/eval_result-10'\n",
    "# test(srl=srl, language=language, masking=False, viterbi=False, tgt=True, train_lang='proto_distilling', \n",
    "#      model_path=model_path, result_dir=result_dir)"
   ]
  },
  {
   "cell_type": "code",
   "execution_count": 25,
   "metadata": {},
   "outputs": [
    {
     "name": "stdout",
     "output_type": "stream",
     "text": [
      "\t###multilingual-for-ko (no masking)\n",
      "### Your result would be saved to: /disk/data/models/eval_result-10/mul_for_ko_result.txt\n",
      "\n",
      "### loading Korean FrameNet 1.1 data...\n",
      "\t# of instances in training data: 17838\n",
      "\t# of instances in dev data: 2548\n",
      "\t# of instances in test data: 5097\n",
      "# of instances in trn: 17838\n",
      "# of instances in dev: 2548\n",
      "# of instances in tst: 5097\n",
      "data example: [['태풍', 'Hugo가', '남긴', '피해들과', '회사', '내', '몇몇', '주요', '부서들의', '저조한', '실적들을', '반영하여,', 'Aetna', 'Life', 'and', 'Casualty', 'Co.의', '3분기', '<tgt>', '순이익이', '</tgt>', '182.6', '백만', '달러', '또는', '주당', '1.63', '달러로', '22', '%', '하락하였다.'], ['_', '_', '_', '_', '_', '_', '_', '_', '_', '_', '_', '_', '_', '_', '_', '_', '_', '_', '_', '이익.n', '_', '_', '_', '_', '_', '_', '_', '_', '_', '_', '_'], ['_', '_', '_', '_', '_', '_', '_', '_', '_', '_', '_', '_', '_', '_', '_', '_', '_', '_', '_', 'Earnings_and_losses', '_', '_', '_', '_', '_', '_', '_', '_', '_', '_', '_'], ['O', 'O', 'O', 'O', 'O', 'O', 'O', 'O', 'O', 'O', 'O', 'O', 'B-Earner', 'I-Earner', 'I-Earner', 'I-Earner', 'I-Earner', 'B-Time', 'X', 'O', 'X', 'O', 'O', 'O', 'O', 'O', 'O', 'O', 'O', 'O', 'O']]\n",
      "### EVALUATION\n",
      "MODE: framenet\n",
      "target LANGUAGE: ko\n",
      "trained LANGUAGE: mul\n",
      "Viterbi: False\n",
      "masking: False\n",
      "using TGT token: True\n",
      "### model dir: /disk/data/models/framenet/mulModel-10/33/\n",
      "### TARGET LANGUAGE: ko\n",
      "srl model: framenet\n",
      "language: multilingual\n",
      "version: 1.1\n",
      "using viterbi: False\n",
      "using masking: False\n",
      "pretrained BERT: bert-base-multilingual-cased\n",
      "using TGT special token: True\n",
      "used dictionary:\n",
      "\t /disk/kaiser/kaiser/src/../koreanframenet/resource/info/mul_lu2idx.json\n",
      "\t /disk/kaiser/kaiser/src/../koreanframenet/resource/info/mul_lufrmap.json\n",
      "\t /disk/kaiser/kaiser/src/../koreanframenet/resource/info/mul_bio_frargmap.json\n",
      "...loaded model path: /disk/data/models/framenet/mulModel-10/33/\n",
      "/disk/data/models/framenet/mulModel-10/33/\n",
      "...model is loaded\n"
     ]
    },
    {
     "name": "stderr",
     "output_type": "stream",
     "text": [
      "../kaiser/src/utils.py:309: UserWarning: Implicit dimension choice for softmax has been deprecated. Change the call to include dim=X as an argument.\n",
      "  pred_logits = sm(masked_logit).view(1,-1)\n"
     ]
    },
    {
     "name": "stdout",
     "output_type": "stream",
     "text": [
      "# EPOCH: 33\n",
      "SenseId Accuracy: 0.4251520502256229\n",
      "ArgId Precision: 0.21784511784511784\n",
      "ArgId Recall: 0.24013361375726833\n",
      "ArgId F1: 0.22844700759136116\n",
      "full-structure Precision: 0.29626434874925356\n",
      "full-structure Recall: 0.31594961788848\n",
      "full-structure F1: 0.3057905009759272\n",
      "-----processing time: 0hour:6min:13sec\n",
      "\n",
      "\n",
      "\t### Your result is saved at: /disk/data/models/eval_result-10/mul_for_ko_result.txt\n"
     ]
    }
   ],
   "source": [
    "# print('\\t###multilingual-for-ko (no masking)')\n",
    "# language = 'ko'\n",
    "# model_path = '/disk/data/models/framenet/mulModel-10/'\n",
    "# result_dir = '/disk/data/models/eval_result-10'\n",
    "# test(srl=srl, language=language, masking=False, viterbi=False, tgt=True, train_lang='mul', \n",
    "#      model_path=model_path, result_dir=result_dir)"
   ]
  },
  {
   "cell_type": "markdown",
   "metadata": {},
   "source": [
    "# eval for proto-distill (ko)"
   ]
  },
  {
   "cell_type": "code",
   "execution_count": 26,
   "metadata": {},
   "outputs": [],
   "source": [
    "# print('\\t###eval for proto-distill (masking)')\n",
    "# srl = 'framenet'\n",
    "# language = 'ko'\n",
    "# model_path = '/disk/data/models/framenet/proto_distilling/'\n",
    "\n",
    "# result_dir = '/disk/data/models/proto_distilling/'\n",
    "# test(srl=srl, language=language, masking=True, viterbi=False, tgt=True, train_lang='prot-_distilling', \n",
    "#      model_path=model_path, result_dir=result_dir)"
   ]
  },
  {
   "cell_type": "code",
   "execution_count": 27,
   "metadata": {},
   "outputs": [],
   "source": [
    "# print('\\t###multilingual-for-ko-no-masking')\n",
    "# srl = 'framenet'\n",
    "# language = 'ko'\n",
    "# model_path = '/disk/data/models/framenet/mulModel-100/'\n",
    "\n",
    "# result_dir = '/disk/data/models/eval_result/'\n",
    "# test(srl=srl, language=language, masking=False, viterbi=False, tgt=True, train_lang='mul', \n",
    "#      model_path=model_path, result_dir=result_dir)"
   ]
  },
  {
   "cell_type": "code",
   "execution_count": 28,
   "metadata": {
    "scrolled": true
   },
   "outputs": [],
   "source": [
    "# print('\\t###eval for proto-distill (masking)')\n",
    "# srl = 'framenet'\n",
    "# language = 'en'\n",
    "# model_path = '/disk/data/models/framenet/proto_distilling/'\n",
    "\n",
    "# result_dir = '/disk/data/models/proto_distilling/'\n",
    "# test(srl=srl, language=language, masking=True, viterbi=False, tgt=True, train_lang='prot-_distilling', \n",
    "#      model_path=model_path, result_dir=result_dir)"
   ]
  },
  {
   "cell_type": "markdown",
   "metadata": {},
   "source": [
    "# eval for en for en"
   ]
  },
  {
   "cell_type": "code",
   "execution_count": 29,
   "metadata": {},
   "outputs": [],
   "source": [
    "# print('\\t###multilingual-for-en-masking')\n",
    "# srl = 'framenet'\n",
    "# language = 'en'\n",
    "# model_path = '/disk/data/models/framenet/enModel-with-exemplar/'\n",
    "\n",
    "# result_dir = '/disk/data/models/eval_result/'\n",
    "# test(srl=srl, language=language, masking=True, viterbi=False, tgt=True, train_lang='en_with_exem', \n",
    "#      model_path=model_path, result_dir=result_dir)"
   ]
  },
  {
   "cell_type": "markdown",
   "metadata": {},
   "source": [
    "# eval for ko for ko"
   ]
  },
  {
   "cell_type": "code",
   "execution_count": 30,
   "metadata": {},
   "outputs": [],
   "source": [
    "# print('\\t###multilingual-for-en-masking')\n",
    "# srl = 'framenet'\n",
    "# language = 'en'\n",
    "# model_path = '/disk/data/models/framenet/enModel-with-exemplar/'\n",
    "\n",
    "# result_dir = '/disk/data/models/results/framenet/enModel-with-exemplar/'\n",
    "# test(srl=srl, language=language, masking=True, viterbi=False, tgt=True, train_lang='en_with_exem', \n",
    "#      model_path=model_path, result_dir=result_dir)"
   ]
  },
  {
   "cell_type": "code",
   "execution_count": 31,
   "metadata": {},
   "outputs": [],
   "source": [
    "# print('\\t###multilingual-for-ko-masking')\n",
    "# srl = 'framenet'\n",
    "# language = 'ko'\n",
    "# model_path = '/disk/data/models/framenet/koModel/'\n",
    "# result_dir = '/disk/data/models/results/framenet/koModel/'\n",
    "# test(srl=srl, language=language, masking=True, viterbi=False, tgt=True, train_lang='ko', \n",
    "#      model_path=model_path, result_dir=result_dir)"
   ]
  },
  {
   "cell_type": "code",
   "execution_count": 32,
   "metadata": {
    "scrolled": true
   },
   "outputs": [],
   "source": [
    "# print('\\t###multilingual-for-en-without-masking')\n",
    "# srl = 'framenet'\n",
    "# language = 'en'\n",
    "# model_path = '/disk/data/models/framenet/enModel-with-exemplar/'\n",
    "# result_dir = '/disk/data/models/results/framenet/enModel-with-exemplar/'\n",
    "# test(srl=srl, language=language, masking=False, viterbi=False, tgt=True, train_lang='en_with_exem', \n",
    "#      model_path=model_path, result_dir=result_dir)"
   ]
  },
  {
   "cell_type": "code",
   "execution_count": 33,
   "metadata": {},
   "outputs": [],
   "source": [
    "# print('\\t###ko-for-ko-without-masking')\n",
    "# srl = 'framenet'\n",
    "# language = 'ko'\n",
    "# model_path = '/disk/data/models/framenet/koModel/'\n",
    "# result_dir = '/disk/data/models/results/framenet/koModel/'\n",
    "# test(srl=srl, language=language, masking=False, viterbi=False, tgt=True, train_lang='ko', \n",
    "#      model_path=model_path, result_dir=result_dir)"
   ]
  },
  {
   "cell_type": "code",
   "execution_count": 34,
   "metadata": {},
   "outputs": [],
   "source": [
    "# print('\\t###en-for-ko-masking')\n",
    "# srl = 'framenet'\n",
    "# language = 'ko'\n",
    "# model_path = ''\n",
    "# result_dir = '/disk/data/models/results/framenet/enModel-with-exemplar/'\n",
    "# test(srl=srl, language=language, masking=True, viterbi=False, tgt=True, train_lang='en_with_exem', \n",
    "#      model_path=model_path, result_dir=result_dir)"
   ]
  },
  {
   "cell_type": "code",
   "execution_count": 35,
   "metadata": {},
   "outputs": [],
   "source": [
    "# print('\\t###en-for-ko-without-masking')\n",
    "# srl = 'framenet'\n",
    "# language = 'ko'\n",
    "# model_path = ''\n",
    "# result_dir = '/disk/data/models/results/framenet/enModel-with-exemplar/'\n",
    "# test(srl=srl, language=language, masking=False, viterbi=False, tgt=True, train_lang='en_with_exem', \n",
    "#      model_path=model_path, result_dir=result_dir)"
   ]
  },
  {
   "cell_type": "markdown",
   "metadata": {},
   "source": [
    "# eval for KFN"
   ]
  },
  {
   "cell_type": "code",
   "execution_count": 36,
   "metadata": {},
   "outputs": [],
   "source": [
    "# print('\\t###multilingual-for-ko-masking')\n",
    "# srl = 'framenet'\n",
    "# language = 'ko'\n",
    "# model_path = '/disk/data/models/framenet/mulModel-100/'\n",
    "\n",
    "# result_dir = '/disk/data/models/eval_result/'\n",
    "# test(srl=srl, language=language, masking=True, viterbi=False, tgt=True, train_lang='mul', \n",
    "#      model_path=model_path, result_dir=result_dir)"
   ]
  },
  {
   "cell_type": "code",
   "execution_count": 37,
   "metadata": {},
   "outputs": [],
   "source": [
    "# print('\\t###multilingual-for-ko-without-masking')\n",
    "# srl = 'framenet'\n",
    "# language = 'ko'\n",
    "# model_path = '/disk/data/models/framenet/mulModel-100/'\n",
    "# model_path = '/disk/data/models/framenet/mulModel-100/'\n",
    "\n",
    "# result_dir = '/disk/data/models/results/framenet/mulModel-100/'\n",
    "# test(srl=srl, language=language, masking=False, viterbi=False, tgt=True, train_lang='en_ko', \n",
    "#      model_path=model_path, result_dir=result_dir)"
   ]
  },
  {
   "cell_type": "markdown",
   "metadata": {},
   "source": [
    "# eval for En again using mulModel"
   ]
  },
  {
   "cell_type": "code",
   "execution_count": 38,
   "metadata": {},
   "outputs": [],
   "source": [
    "# print('\\t###multilingual-for-en-masking')\n",
    "# srl = 'framenet'\n",
    "# language = 'en'\n",
    "# model_path = '/disk/data/models/framenet/mulModel-100/'\n",
    "\n",
    "# result_dir = '/disk/data/models/eval_result/'\n",
    "# test(srl=srl, language=language, masking=True, viterbi=False, tgt=True, train_lang='mul', \n",
    "#      model_path=model_path, result_dir=result_dir)"
   ]
  },
  {
   "cell_type": "code",
   "execution_count": 39,
   "metadata": {},
   "outputs": [],
   "source": [
    "# print('\\t###multilingual-for-en-without-masking')\n",
    "# srl = 'framenet'\n",
    "# language = 'en'\n",
    "# model_path = '/disk/data/models/framenet/mulModel-100/'\n",
    "# model_path = '/disk/data/models/framenet/mulModel-100/'\n",
    "\n",
    "# result_dir = '/disk/data/models/results/framenet/mulModel-100-for-en/'\n",
    "# test(srl=srl, language=language, masking=False, viterbi=False, tgt=True, train_lang='en_ko', \n",
    "#      model_path=model_path, result_dir=result_dir)"
   ]
  },
  {
   "cell_type": "markdown",
   "metadata": {},
   "source": [
    "# eval for distilling"
   ]
  },
  {
   "cell_type": "code",
   "execution_count": 40,
   "metadata": {},
   "outputs": [],
   "source": [
    "# print('\\t###multilingual-for-ko-masking')\n",
    "# srl = 'framenet'\n",
    "# language = 'ko'\n",
    "# model_path = '/disk/data/models/framenet/distilling/'\n",
    "\n",
    "# result_dir = '/disk/data/models/distilling/'\n",
    "# test(srl=srl, language=language, masking=True, viterbi=False, tgt=True, train_lang='distilling', \n",
    "#      model_path=model_path, result_dir=result_dir)"
   ]
  }
 ],
 "metadata": {
  "kernelspec": {
   "display_name": "Python 3",
   "language": "python",
   "name": "python3"
  },
  "language_info": {
   "codemirror_mode": {
    "name": "ipython",
    "version": 3
   },
   "file_extension": ".py",
   "mimetype": "text/x-python",
   "name": "python",
   "nbconvert_exporter": "python",
   "pygments_lexer": "ipython3",
   "version": "3.6.5"
  }
 },
 "nbformat": 4,
 "nbformat_minor": 2
}
