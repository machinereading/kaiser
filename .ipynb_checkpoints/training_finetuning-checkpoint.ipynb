{
 "cells": [
  {
   "cell_type": "code",
   "execution_count": 1,
   "metadata": {},
   "outputs": [
    {
     "name": "stdout",
     "output_type": "stream",
     "text": [
      "### Korean FrameNet ###\n",
      "\t# contact: hahmyg@kaist, hahmyg@gmail.com #\n",
      "\n"
     ]
    },
    {
     "name": "stderr",
     "output_type": "stream",
     "text": [
      "Using TensorFlow backend.\n"
     ]
    }
   ],
   "source": [
    "import sys\n",
    "import glob\n",
    "import torch\n",
    "sys.path.append('../')\n",
    "import os\n",
    "from transformers import *\n",
    "from kaiser.src import utils\n",
    "from kaiser.src import dataio\n",
    "from kaiser.src.modeling import BertForJointShallowSemanticParsing\n",
    "from torch.utils.data import TensorDataset, DataLoader, RandomSampler, SequentialSampler\n",
    "import torch\n",
    "from torch import nn\n",
    "from torch.optim import Adam\n",
    "from tqdm import tqdm, trange\n",
    "from sklearn.metrics import accuracy_score\n",
    "from seqeval.metrics import f1_score, precision_score, recall_score\n",
    "\n",
    "device = torch.device(\"cuda:0\" if torch.cuda.is_available() else \"cpu\")\n",
    "n_gpu = torch.cuda.device_count()\n",
    "if device != \"cpu\":\n",
    "    torch.cuda.set_device(0)\n",
    "# device = torch.device('cpu')\n",
    "# torch.cuda.set_device(device)\n",
    "# torch.backends.cudnn.deterministic = True\n",
    "# torch.backends.cudnn.benchmark = True\n",
    "\n",
    "import numpy as np\n",
    "import random\n",
    "np.random.seed(0)   \n",
    "random.seed(0)\n",
    "\n",
    "from torch import autograd\n",
    "torch.cuda.empty_cache()"
   ]
  },
  {
   "cell_type": "code",
   "execution_count": 2,
   "metadata": {},
   "outputs": [],
   "source": [
    "import random"
   ]
  },
  {
   "cell_type": "code",
   "execution_count": 3,
   "metadata": {},
   "outputs": [],
   "source": [
    "# 실행시간 측정 함수\n",
    "import time\n",
    "\n",
    "_start_time = time.time()\n",
    "\n",
    "def tic():\n",
    "    global _start_time \n",
    "    _start_time = time.time()\n",
    "\n",
    "def tac():\n",
    "    t_sec = round(time.time() - _start_time)\n",
    "    (t_min, t_sec) = divmod(t_sec,60)\n",
    "    (t_hour,t_min) = divmod(t_min,60)\n",
    "    \n",
    "    result = '{}hour:{}min:{}sec'.format(t_hour,t_min,t_sec)\n",
    "    return result"
   ]
  },
  {
   "cell_type": "code",
   "execution_count": 4,
   "metadata": {},
   "outputs": [],
   "source": [
    "try:\n",
    "    dir_path = os.path.dirname(os.path.abspath( __file__ ))\n",
    "except:\n",
    "    dir_path = '.'"
   ]
  },
  {
   "cell_type": "code",
   "execution_count": 5,
   "metadata": {},
   "outputs": [],
   "source": [
    "def train(retrain=False, pretrained_dir=False):\n",
    "    if pretrained_dir:\n",
    "        print('original model:', pretrained_dir)\n",
    "    else:\n",
    "        print('original model:', 'BERT-multilingual-base')\n",
    "    print('\\n\\tyour model would be saved at', model_dir)\n",
    "    if not os.path.exists(model_dir):\n",
    "        os.makedirs(model_dir)\n",
    "\n",
    "    # load a model first\n",
    "    if retrain:\n",
    "#         model_saved_path = pretrained_dir\n",
    "        model = BertForJointShallowSemanticParsing.from_pretrained(pretrained_dir, \n",
    "                                                                   num_senses = len(bert_io.sense2idx), \n",
    "                                                                   num_args = len(bert_io.bio_arg2idx),\n",
    "                                                                   lufrmap=bert_io.lufrmap, \n",
    "                                                                   frargmap = bert_io.bio_frargmap)\n",
    "    else:\n",
    "#         model_saved_path = PRETRAINED_MODEL\n",
    "        model = BertForJointShallowSemanticParsing.from_pretrained(PRETRAINED_MODEL, \n",
    "                                                                   num_senses = len(bert_io.sense2idx), \n",
    "                                                                   num_args = len(bert_io.bio_arg2idx),\n",
    "                                                                   lufrmap=bert_io.lufrmap, \n",
    "                                                                   frargmap = bert_io.bio_frargmap)\n",
    "    model.to(device)\n",
    "    \n",
    "    print('retrain:', retrain)\n",
    "    tic()\n",
    "    print('\\n### converting data to BERT input...')\n",
    "    trn_data = bert_io.convert_to_bert_input_JointShallowSemanticParsing(trn)\n",
    "    print('\\t ...is done:', tac())\n",
    "    print('\\t#of instance:', len(trn), len(trn_data))\n",
    "    sampler = RandomSampler(trn)\n",
    "    trn_dataloader = DataLoader(trn_data, sampler=sampler, batch_size=batch_size)\n",
    "    \n",
    "    # load optimizer\n",
    "    FULL_FINETUNING = True\n",
    "    if FULL_FINETUNING:\n",
    "        param_optimizer = list(model.named_parameters())\n",
    "        no_decay = ['bias', 'gamma', 'beta']\n",
    "        optimizer_grouped_parameters = [\n",
    "            {'params': [p for n, p in param_optimizer if not any(nd in n for nd in no_decay)],\n",
    "             'weight_decay_rate': 0.01},\n",
    "            {'params': [p for n, p in param_optimizer if any(nd in n for nd in no_decay)],\n",
    "             'weight_decay_rate': 0.0}\n",
    "        ]\n",
    "    else:\n",
    "        param_optimizer = list(model.classifier.named_parameters()) \n",
    "        optimizer_grouped_parameters = [{\"params\": [p for n, p in param_optimizer]}]\n",
    "    optimizer = Adam(optimizer_grouped_parameters, lr=3e-5)\n",
    "\n",
    "#     lr = 5e-5\n",
    "#     lr =3e-5\n",
    "#     optimizer = AdamW(model.parameters(), lr=lr, eps=1e-8)\n",
    "#     num_training_steps = len(trn_dataloader) // epochs\n",
    "#     scheduler = get_linear_schedule_with_warmup(optimizer, num_warmup_steps=0, num_training_steps=num_training_steps)  # PyTorch scheduler\n",
    "    \n",
    "    max_grad_norm = 1.0\n",
    "#     global_step = 0\n",
    "#     num_of_epoch = 1\n",
    "    num_of_epoch = 0\n",
    "    accuracy_result = []\n",
    "    for _ in trange(epochs, desc=\"Epoch\"):\n",
    "        # load a fine-tuned model\n",
    "#         print('epoch:', num_of_epoch)\n",
    "#         print('epoch-1 model:', model_saved_path)\n",
    "#         model = BertForJointShallowSemanticParsing.from_pretrained(model_saved_path, \n",
    "#                                                                    num_senses = len(bert_io.sense2idx), \n",
    "#                                                                    num_args = len(bert_io.bio_arg2idx),\n",
    "#                                                                    lufrmap=bert_io.lufrmap, \n",
    "#                                                                    frargmap = bert_io.bio_frargmap)\n",
    "#         model.to(device)\n",
    "        \n",
    "#         lr = 5e-5\n",
    "#         optimizer = AdamW(model.parameters(), lr=lr, eps=1e-8)\n",
    "#         num_training_steps = len(trn_dataloader) // epochs\n",
    "#         scheduler = get_linear_schedule_with_warmup(optimizer, num_warmup_steps=0, num_training_steps=num_training_steps)  # PyTorch scheduler\n",
    "        \n",
    "        # TRAIN loop\n",
    "        tr_loss = 0\n",
    "        nb_tr_examples, nb_tr_steps = 0, 0\n",
    "        for step, batch in enumerate(trn_dataloader):\n",
    "            model.train()\n",
    "            # add batch to gpu\n",
    "            torch.cuda.set_device(0)\n",
    "#             torch.cuda.set_device(device)\n",
    "            batch = tuple(t.to(device) for t in batch)\n",
    "            b_input_ids, b_input_orig_tok_to_maps, b_input_lus, b_input_senses, b_input_args, b_token_type_ids, b_input_masks = batch            \n",
    "#             print(b_token_type_ids[0])\n",
    "            # forward pass\n",
    "#             with autograd.detect_anomaly():\n",
    "            loss = model(b_input_ids, lus=b_input_lus, senses=b_input_senses, args=b_input_args,\n",
    "                     token_type_ids=b_token_type_ids, attention_mask=b_input_masks)\n",
    "            # backward pass\n",
    "\n",
    "\n",
    "            loss.backward()\n",
    "            # track train loss\n",
    "            tr_loss += loss.item()\n",
    "            nb_tr_examples += b_input_ids.size(0)\n",
    "            nb_tr_steps += 1\n",
    "            # gradient clipping\n",
    "            torch.nn.utils.clip_grad_norm_(parameters=model.parameters(), max_norm=max_grad_norm)\n",
    "            # update parameters\n",
    "            optimizer.step()\n",
    "#             scheduler.step()\n",
    "            model.zero_grad()\n",
    "    \n",
    "#             break\n",
    "\n",
    "        print(\"Train loss: {}\".format(tr_loss/nb_tr_steps))\n",
    "        \n",
    "        # save your model\n",
    "        model_saved_path = model_dir+str(num_of_epoch)+'/'\n",
    "        print('\\n\\tyour model is saved:', model_saved_path)\n",
    "        if not os.path.exists(model_saved_path):\n",
    "            os.makedirs(model_saved_path)\n",
    "        model.save_pretrained(model_saved_path)\n",
    "        \n",
    "        # load a fine-tuned model\n",
    "#         model = BertForJointShallowSemanticParsing.from_pretrained(model_saved_path, \n",
    "#                                                                    num_senses = len(bert_io.sense2idx), \n",
    "#                                                                    num_args = len(bert_io.bio_arg2idx),\n",
    "#                                                                    lufrmap=bert_io.lufrmap, \n",
    "#                                                                    frargmap = bert_io.bio_frargmap)\n",
    "#         model.to(device)\n",
    "        \n",
    "        num_of_epoch += 1\n",
    "\n",
    "        \n",
    "#         break\n",
    "    print('...training is done')"
   ]
  },
  {
   "cell_type": "code",
   "execution_count": 6,
   "metadata": {},
   "outputs": [],
   "source": [
    "srl = 'framenet'\n",
    "masking = True\n",
    "MAX_LEN = 256\n",
    "batch_size = 6\n",
    "PRETRAINED_MODEL = \"bert-base-multilingual-cased\"\n",
    "fnversion = '1.7'\n",
    "language = 'multi'"
   ]
  },
  {
   "cell_type": "markdown",
   "metadata": {},
   "source": [
    "# (1) train En-FN with exemplars model"
   ]
  },
  {
   "cell_type": "code",
   "execution_count": 7,
   "metadata": {},
   "outputs": [],
   "source": [
    "# model_dir = '/disk/data/models/framenet/enModel-with-exemplar/'\n",
    "# trn, dev, tst = dataio.load_data(srl=srl, language='en')\n",
    "# # trn = random.sample(trn, k=50)\n",
    "# # epochs = 10\n",
    "# epochs = 20\n",
    "\n",
    "# print('')\n",
    "# print('### TRAINING')\n",
    "# print('MODEL:', srl)\n",
    "# print('LANGUAGE:', language)\n",
    "# print('PRETRAINED BERT:', PRETRAINED_MODEL)\n",
    "# print('training data:')\n",
    "# print('\\t(en):', len(trn))\n",
    "# print('BATCH_SIZE:', batch_size)\n",
    "# print('MAX_LEN:', MAX_LEN)\n",
    "# print('')\n",
    "\n",
    "# bert_io = utils.for_BERT(mode='train', srl=srl, language=language, masking=masking, fnversion=fnversion, pretrained=PRETRAINED_MODEL)\n",
    "# train()\n",
    "# train(retrain=True, pretrained_dir='/disk/data/models/framenet/enModel-with-exemplar/0/')"
   ]
  },
  {
   "cell_type": "markdown",
   "metadata": {},
   "source": [
    "# (2) train KFN"
   ]
  },
  {
   "cell_type": "code",
   "execution_count": 8,
   "metadata": {},
   "outputs": [],
   "source": [
    "# model_dir = '/disk/data/models/framenet/koModel/'\n",
    "# trn, dev, tst = dataio.load_data(srl=srl, language='ko')\n",
    "# # trn = random.sample(trn, k=50)\n",
    "# epochs = 50\n",
    "\n",
    "# print('\\nFrameBERT(ko)')\n",
    "# print('### TRAINING')\n",
    "# print('MODEL:', srl)\n",
    "# print('LANGUAGE:', language)\n",
    "# print('PRETRAINED BERT:', PRETRAINED_MODEL)\n",
    "# print('training data:')\n",
    "# print('\\t(ko):', len(trn))\n",
    "# print('BATCH_SIZE:', batch_size)\n",
    "# print('MAX_LEN:', MAX_LEN)\n",
    "# print('')\n",
    "\n",
    "# bert_io = utils.for_BERT(mode='train', srl=srl, language=language, masking=masking, fnversion=fnversion, pretrained=PRETRAINED_MODEL)\n",
    "# train()"
   ]
  },
  {
   "cell_type": "markdown",
   "metadata": {},
   "source": [
    "# (3) fine-tuning by Korean FrameNet"
   ]
  },
  {
   "cell_type": "code",
   "execution_count": 9,
   "metadata": {},
   "outputs": [
    {
     "name": "stdout",
     "output_type": "stream",
     "text": [
      "\n",
      "### loading Korean FrameNet 1.1 data...\n",
      "\t# of instances in training data: 17838\n",
      "\t# of instances in dev data: 2548\n",
      "\t# of instances in test data: 5097\n",
      "# of instances in trn: 17838\n",
      "# of instances in dev: 2548\n",
      "# of instances in tst: 5097\n",
      "data example: [['태풍', 'Hugo가', '남긴', '피해들과', '회사', '내', '몇몇', '주요', '부서들의', '저조한', '실적들을', '반영하여,', 'Aetna', 'Life', 'and', 'Casualty', 'Co.의', '3분기', '<tgt>', '순이익이', '</tgt>', '182.6', '백만', '달러', '또는', '주당', '1.63', '달러로', '22', '%', '하락하였다.'], ['_', '_', '_', '_', '_', '_', '_', '_', '_', '_', '_', '_', '_', '_', '_', '_', '_', '_', '_', '이익.n', '_', '_', '_', '_', '_', '_', '_', '_', '_', '_', '_'], ['_', '_', '_', '_', '_', '_', '_', '_', '_', '_', '_', '_', '_', '_', '_', '_', '_', '_', '_', 'Earnings_and_losses', '_', '_', '_', '_', '_', '_', '_', '_', '_', '_', '_'], ['O', 'O', 'O', 'O', 'O', 'O', 'O', 'O', 'O', 'O', 'O', 'O', 'B-Earner', 'I-Earner', 'I-Earner', 'I-Earner', 'I-Earner', 'B-Time', 'X', 'O', 'X', 'O', 'O', 'O', 'O', 'O', 'O', 'O', 'O', 'O', 'O']]\n",
      "\n",
      "FineTuning Multilingual\n",
      "### TRAINING\n",
      "MODEL: framenet\n",
      "LANGUAGE: multi\n",
      "PRETRAINED BERT: bert-base-multilingual-cased\n",
      "training data:\n",
      "\t(ko): 20\n",
      "BATCH_SIZE: 6\n",
      "MAX_LEN: 256\n",
      "\n",
      "used dictionary:\n",
      "\t /disk/kaiser/kaiser/src/../koreanframenet/resource/info/mul_lu2idx.json\n",
      "\t /disk/kaiser/kaiser/src/../koreanframenet/resource/info/mul_lufrmap.json\n",
      "\t /disk/kaiser/kaiser/src/../koreanframenet/resource/info/mul_bio_frargmap.json\n",
      "original model: /disk/data/models/dict_framenet/enModel-with-exemplar/9/\n",
      "\n",
      "\tyour model would be saved at /disk/data/models/dict_framenet/mulModel-100/\n"
     ]
    },
    {
     "name": "stderr",
     "output_type": "stream",
     "text": [
      "\r",
      "Epoch:   0%|          | 0/50 [00:00<?, ?it/s]"
     ]
    },
    {
     "name": "stdout",
     "output_type": "stream",
     "text": [
      "retrain: True\n",
      "\n",
      "### converting data to BERT input...\n",
      "\t ...is done: 0hour:0min:0sec\n",
      "\t#of instance: 20 20\n"
     ]
    },
    {
     "name": "stderr",
     "output_type": "stream",
     "text": [
      "../kaiser/src/utils.py:275: UserWarning: Implicit dimension choice for softmax has been deprecated. Change the call to include dim=X as an argument.\n",
      "  pred_logits = sm(masked_logit).view(1,-1)\n"
     ]
    },
    {
     "name": "stdout",
     "output_type": "stream",
     "text": [
      "Train loss: 4.220431804656982\n",
      "\n",
      "\tyour model is saved: /disk/data/models/dict_framenet/mulModel-100/0/\n"
     ]
    },
    {
     "name": "stderr",
     "output_type": "stream",
     "text": [
      "\r",
      "Epoch:   2%|▏         | 1/50 [00:01<01:19,  1.63s/it]"
     ]
    },
    {
     "name": "stdout",
     "output_type": "stream",
     "text": [
      "Train loss: 2.73818176984787\n",
      "\n",
      "\tyour model is saved: /disk/data/models/dict_framenet/mulModel-100/1/\n"
     ]
    },
    {
     "name": "stderr",
     "output_type": "stream",
     "text": [
      "\r",
      "Epoch:   4%|▍         | 2/50 [00:03<01:16,  1.59s/it]"
     ]
    },
    {
     "name": "stdout",
     "output_type": "stream",
     "text": [
      "Train loss: 1.7915591299533844\n",
      "\n",
      "\tyour model is saved: /disk/data/models/dict_framenet/mulModel-100/2/\n"
     ]
    },
    {
     "name": "stderr",
     "output_type": "stream",
     "text": [
      "\r",
      "Epoch:   6%|▌         | 3/50 [00:04<01:13,  1.56s/it]"
     ]
    },
    {
     "name": "stdout",
     "output_type": "stream",
     "text": [
      "Train loss: 0.9227814972400665\n",
      "\n",
      "\tyour model is saved: /disk/data/models/dict_framenet/mulModel-100/3/\n"
     ]
    },
    {
     "name": "stderr",
     "output_type": "stream",
     "text": [
      "\r",
      "Epoch:   8%|▊         | 4/50 [00:06<01:10,  1.54s/it]"
     ]
    },
    {
     "name": "stdout",
     "output_type": "stream",
     "text": [
      "Train loss: 0.6022640839219093\n",
      "\n",
      "\tyour model is saved: /disk/data/models/dict_framenet/mulModel-100/4/\n"
     ]
    },
    {
     "name": "stderr",
     "output_type": "stream",
     "text": [
      "\r",
      "Epoch:  10%|█         | 5/50 [00:07<01:08,  1.53s/it]"
     ]
    },
    {
     "name": "stdout",
     "output_type": "stream",
     "text": [
      "Train loss: 0.44140859693288803\n",
      "\n",
      "\tyour model is saved: /disk/data/models/dict_framenet/mulModel-100/5/\n"
     ]
    },
    {
     "name": "stderr",
     "output_type": "stream",
     "text": [
      "\r",
      "Epoch:  12%|█▏        | 6/50 [00:09<01:06,  1.52s/it]"
     ]
    },
    {
     "name": "stdout",
     "output_type": "stream",
     "text": [
      "Train loss: 0.26365745812654495\n",
      "\n",
      "\tyour model is saved: /disk/data/models/dict_framenet/mulModel-100/6/\n"
     ]
    },
    {
     "name": "stderr",
     "output_type": "stream",
     "text": [
      "\r",
      "Epoch:  14%|█▍        | 7/50 [00:10<01:04,  1.51s/it]"
     ]
    },
    {
     "name": "stdout",
     "output_type": "stream",
     "text": [
      "Train loss: 0.1456884320359677\n",
      "\n",
      "\tyour model is saved: /disk/data/models/dict_framenet/mulModel-100/7/\n"
     ]
    },
    {
     "name": "stderr",
     "output_type": "stream",
     "text": [
      "\r",
      "Epoch:  16%|█▌        | 8/50 [00:12<01:03,  1.51s/it]"
     ]
    },
    {
     "name": "stdout",
     "output_type": "stream",
     "text": [
      "Train loss: 0.12089874967932701\n",
      "\n",
      "\tyour model is saved: /disk/data/models/dict_framenet/mulModel-100/8/\n"
     ]
    },
    {
     "name": "stderr",
     "output_type": "stream",
     "text": [
      "\r",
      "Epoch:  18%|█▊        | 9/50 [00:13<01:01,  1.50s/it]"
     ]
    },
    {
     "name": "stdout",
     "output_type": "stream",
     "text": [
      "Train loss: 0.09935624059289694\n",
      "\n",
      "\tyour model is saved: /disk/data/models/dict_framenet/mulModel-100/9/\n"
     ]
    },
    {
     "name": "stderr",
     "output_type": "stream",
     "text": [
      "\r",
      "Epoch:  20%|██        | 10/50 [00:15<01:00,  1.50s/it]"
     ]
    },
    {
     "name": "stdout",
     "output_type": "stream",
     "text": [
      "Train loss: 0.07744738459587097\n",
      "\n",
      "\tyour model is saved: /disk/data/models/dict_framenet/mulModel-100/10/\n"
     ]
    },
    {
     "name": "stderr",
     "output_type": "stream",
     "text": [
      "\r",
      "Epoch:  22%|██▏       | 11/50 [00:16<00:58,  1.50s/it]"
     ]
    },
    {
     "name": "stdout",
     "output_type": "stream",
     "text": [
      "Train loss: 0.044082353299017996\n",
      "\n",
      "\tyour model is saved: /disk/data/models/dict_framenet/mulModel-100/11/\n"
     ]
    },
    {
     "name": "stderr",
     "output_type": "stream",
     "text": [
      "\r",
      "Epoch:  24%|██▍       | 12/50 [00:18<00:56,  1.50s/it]"
     ]
    },
    {
     "name": "stdout",
     "output_type": "stream",
     "text": [
      "Train loss: 0.04266034346073866\n",
      "\n",
      "\tyour model is saved: /disk/data/models/dict_framenet/mulModel-100/12/\n"
     ]
    },
    {
     "name": "stderr",
     "output_type": "stream",
     "text": [
      "\r",
      "Epoch:  26%|██▌       | 13/50 [00:20<01:07,  1.82s/it]"
     ]
    },
    {
     "name": "stdout",
     "output_type": "stream",
     "text": [
      "Train loss: 0.04869956523180008\n",
      "\n",
      "\tyour model is saved: /disk/data/models/dict_framenet/mulModel-100/13/\n"
     ]
    },
    {
     "name": "stderr",
     "output_type": "stream",
     "text": [
      "\r",
      "Epoch:  28%|██▊       | 14/50 [00:22<01:02,  1.72s/it]"
     ]
    },
    {
     "name": "stdout",
     "output_type": "stream",
     "text": [
      "Train loss: 0.023333578370511532\n",
      "\n",
      "\tyour model is saved: /disk/data/models/dict_framenet/mulModel-100/14/\n"
     ]
    },
    {
     "name": "stderr",
     "output_type": "stream",
     "text": [
      "\r",
      "Epoch:  30%|███       | 15/50 [00:23<01:01,  1.75s/it]"
     ]
    },
    {
     "name": "stdout",
     "output_type": "stream",
     "text": [
      "Train loss: 0.020641659619286656\n",
      "\n",
      "\tyour model is saved: /disk/data/models/dict_framenet/mulModel-100/15/\n"
     ]
    },
    {
     "name": "stderr",
     "output_type": "stream",
     "text": [
      "\r",
      "Epoch:  32%|███▏      | 16/50 [00:27<01:15,  2.23s/it]"
     ]
    },
    {
     "name": "stdout",
     "output_type": "stream",
     "text": [
      "Train loss: 0.00989191813278012\n",
      "\n",
      "\tyour model is saved: /disk/data/models/dict_framenet/mulModel-100/16/\n"
     ]
    },
    {
     "name": "stderr",
     "output_type": "stream",
     "text": [
      "\r",
      "Epoch:  34%|███▍      | 17/50 [00:29<01:13,  2.23s/it]"
     ]
    },
    {
     "name": "stdout",
     "output_type": "stream",
     "text": [
      "Train loss: 0.013524946494726464\n",
      "\n",
      "\tyour model is saved: /disk/data/models/dict_framenet/mulModel-100/17/\n"
     ]
    },
    {
     "name": "stderr",
     "output_type": "stream",
     "text": [
      "\r",
      "Epoch:  36%|███▌      | 18/50 [00:32<01:19,  2.48s/it]"
     ]
    },
    {
     "name": "stdout",
     "output_type": "stream",
     "text": [
      "Train loss: 0.03522271430119872\n",
      "\n",
      "\tyour model is saved: /disk/data/models/dict_framenet/mulModel-100/18/\n"
     ]
    },
    {
     "name": "stderr",
     "output_type": "stream",
     "text": [
      "\r",
      "Epoch:  38%|███▊      | 19/50 [00:36<01:25,  2.76s/it]"
     ]
    },
    {
     "name": "stdout",
     "output_type": "stream",
     "text": [
      "Train loss: 0.011423524701967835\n",
      "\n",
      "\tyour model is saved: /disk/data/models/dict_framenet/mulModel-100/19/\n"
     ]
    },
    {
     "name": "stderr",
     "output_type": "stream",
     "text": [
      "\r",
      "Epoch:  40%|████      | 20/50 [00:39<01:28,  2.96s/it]"
     ]
    },
    {
     "name": "stdout",
     "output_type": "stream",
     "text": [
      "Train loss: 0.02787267998792231\n",
      "\n",
      "\tyour model is saved: /disk/data/models/dict_framenet/mulModel-100/20/\n"
     ]
    },
    {
     "name": "stderr",
     "output_type": "stream",
     "text": [
      "\r",
      "Epoch:  42%|████▏     | 21/50 [00:44<01:41,  3.50s/it]"
     ]
    },
    {
     "name": "stdout",
     "output_type": "stream",
     "text": [
      "Train loss: 0.0070113234396558255\n",
      "\n",
      "\tyour model is saved: /disk/data/models/dict_framenet/mulModel-100/21/\n"
     ]
    },
    {
     "name": "stderr",
     "output_type": "stream",
     "text": [
      "\r",
      "Epoch:  44%|████▍     | 22/50 [00:48<01:42,  3.68s/it]"
     ]
    },
    {
     "name": "stdout",
     "output_type": "stream",
     "text": [
      "Train loss: 0.004456451497389935\n",
      "\n",
      "\tyour model is saved: /disk/data/models/dict_framenet/mulModel-100/22/\n"
     ]
    },
    {
     "name": "stderr",
     "output_type": "stream",
     "text": [
      "\r",
      "Epoch:  46%|████▌     | 23/50 [00:51<01:37,  3.60s/it]"
     ]
    },
    {
     "name": "stdout",
     "output_type": "stream",
     "text": [
      "Train loss: 0.010074212506879121\n",
      "\n",
      "\tyour model is saved: /disk/data/models/dict_framenet/mulModel-100/23/\n"
     ]
    },
    {
     "name": "stderr",
     "output_type": "stream",
     "text": [
      "\r",
      "Epoch:  48%|████▊     | 24/50 [00:55<01:32,  3.55s/it]"
     ]
    },
    {
     "name": "stdout",
     "output_type": "stream",
     "text": [
      "Train loss: 0.0027217671449761838\n",
      "\n",
      "\tyour model is saved: /disk/data/models/dict_framenet/mulModel-100/24/\n"
     ]
    },
    {
     "name": "stderr",
     "output_type": "stream",
     "text": [
      "\r",
      "Epoch:  50%|█████     | 25/50 [00:58<01:27,  3.51s/it]"
     ]
    },
    {
     "name": "stdout",
     "output_type": "stream",
     "text": [
      "Train loss: 0.0026895536138908938\n",
      "\n",
      "\tyour model is saved: /disk/data/models/dict_framenet/mulModel-100/25/\n"
     ]
    },
    {
     "name": "stderr",
     "output_type": "stream",
     "text": [
      "\r",
      "Epoch:  52%|█████▏    | 26/50 [01:04<01:42,  4.29s/it]"
     ]
    },
    {
     "name": "stdout",
     "output_type": "stream",
     "text": [
      "Train loss: 0.010963961336528882\n",
      "\n",
      "\tyour model is saved: /disk/data/models/dict_framenet/mulModel-100/26/\n"
     ]
    },
    {
     "name": "stderr",
     "output_type": "stream",
     "text": [
      "\r",
      "Epoch:  54%|█████▍    | 27/50 [01:09<01:39,  4.32s/it]"
     ]
    },
    {
     "name": "stdout",
     "output_type": "stream",
     "text": [
      "Train loss: 0.0011904256243724376\n",
      "\n",
      "\tyour model is saved: /disk/data/models/dict_framenet/mulModel-100/27/\n"
     ]
    },
    {
     "name": "stderr",
     "output_type": "stream",
     "text": [
      "\r",
      "Epoch:  56%|█████▌    | 28/50 [01:15<01:49,  4.99s/it]"
     ]
    },
    {
     "name": "stdout",
     "output_type": "stream",
     "text": [
      "Train loss: 0.004111765447305515\n",
      "\n",
      "\tyour model is saved: /disk/data/models/dict_framenet/mulModel-100/28/\n"
     ]
    },
    {
     "name": "stderr",
     "output_type": "stream",
     "text": [
      "\r",
      "Epoch:  58%|█████▊    | 29/50 [01:19<01:37,  4.66s/it]"
     ]
    },
    {
     "name": "stdout",
     "output_type": "stream",
     "text": [
      "Train loss: 0.008325210153998341\n",
      "\n",
      "\tyour model is saved: /disk/data/models/dict_framenet/mulModel-100/29/\n"
     ]
    },
    {
     "name": "stderr",
     "output_type": "stream",
     "text": [
      "\r",
      "Epoch:  60%|██████    | 30/50 [01:21<01:18,  3.93s/it]"
     ]
    },
    {
     "name": "stdout",
     "output_type": "stream",
     "text": [
      "Train loss: 0.0007576140778837726\n",
      "\n",
      "\tyour model is saved: /disk/data/models/dict_framenet/mulModel-100/30/\n"
     ]
    },
    {
     "name": "stderr",
     "output_type": "stream",
     "text": [
      "\r",
      "Epoch:  62%|██████▏   | 31/50 [01:24<01:09,  3.65s/it]"
     ]
    },
    {
     "name": "stdout",
     "output_type": "stream",
     "text": [
      "Train loss: 0.008243121090345085\n",
      "\n",
      "\tyour model is saved: /disk/data/models/dict_framenet/mulModel-100/31/\n"
     ]
    },
    {
     "name": "stderr",
     "output_type": "stream",
     "text": [
      "\r",
      "Epoch:  64%|██████▍   | 32/50 [01:29<01:13,  4.06s/it]"
     ]
    },
    {
     "name": "stdout",
     "output_type": "stream",
     "text": [
      "Train loss: 0.006486934049462434\n",
      "\n",
      "\tyour model is saved: /disk/data/models/dict_framenet/mulModel-100/32/\n"
     ]
    },
    {
     "name": "stderr",
     "output_type": "stream",
     "text": [
      "\r",
      "Epoch:  66%|██████▌   | 33/50 [01:32<01:03,  3.72s/it]"
     ]
    },
    {
     "name": "stdout",
     "output_type": "stream",
     "text": [
      "Train loss: 0.0037227150787657592\n",
      "\n",
      "\tyour model is saved: /disk/data/models/dict_framenet/mulModel-100/33/\n"
     ]
    },
    {
     "name": "stderr",
     "output_type": "stream",
     "text": [
      "\r",
      "Epoch:  68%|██████▊   | 34/50 [01:35<00:57,  3.59s/it]"
     ]
    },
    {
     "name": "stdout",
     "output_type": "stream",
     "text": [
      "Train loss: 0.0009305440689786337\n",
      "\n",
      "\tyour model is saved: /disk/data/models/dict_framenet/mulModel-100/34/\n"
     ]
    },
    {
     "name": "stderr",
     "output_type": "stream",
     "text": [
      "\r",
      "Epoch:  70%|███████   | 35/50 [01:39<00:54,  3.61s/it]"
     ]
    },
    {
     "name": "stdout",
     "output_type": "stream",
     "text": [
      "Train loss: 0.0009307972504757345\n",
      "\n",
      "\tyour model is saved: /disk/data/models/dict_framenet/mulModel-100/35/\n"
     ]
    },
    {
     "ename": "KeyboardInterrupt",
     "evalue": "",
     "output_type": "error",
     "traceback": [
      "\u001b[0;31m---------------------------------------------------------------------------\u001b[0m",
      "\u001b[0;31mKeyboardInterrupt\u001b[0m                         Traceback (most recent call last)",
      "\u001b[0;32m<ipython-input-9-5ccb5969a315>\u001b[0m in \u001b[0;36m<module>\u001b[0;34m()\u001b[0m\n\u001b[1;32m     19\u001b[0m \u001b[0;34m\u001b[0m\u001b[0m\n\u001b[1;32m     20\u001b[0m \u001b[0mbert_io\u001b[0m \u001b[0;34m=\u001b[0m \u001b[0mutils\u001b[0m\u001b[0;34m.\u001b[0m\u001b[0mfor_BERT\u001b[0m\u001b[0;34m(\u001b[0m\u001b[0mmode\u001b[0m\u001b[0;34m=\u001b[0m\u001b[0;34m'train'\u001b[0m\u001b[0;34m,\u001b[0m \u001b[0msrl\u001b[0m\u001b[0;34m=\u001b[0m\u001b[0msrl\u001b[0m\u001b[0;34m,\u001b[0m \u001b[0mlanguage\u001b[0m\u001b[0;34m=\u001b[0m\u001b[0mlanguage\u001b[0m\u001b[0;34m,\u001b[0m \u001b[0mmasking\u001b[0m\u001b[0;34m=\u001b[0m\u001b[0mmasking\u001b[0m\u001b[0;34m,\u001b[0m \u001b[0mfnversion\u001b[0m\u001b[0;34m=\u001b[0m\u001b[0mfnversion\u001b[0m\u001b[0;34m,\u001b[0m \u001b[0mpretrained\u001b[0m\u001b[0;34m=\u001b[0m\u001b[0mPRETRAINED_MODEL\u001b[0m\u001b[0;34m)\u001b[0m\u001b[0;34m\u001b[0m\u001b[0m\n\u001b[0;32m---> 21\u001b[0;31m \u001b[0mtrain\u001b[0m\u001b[0;34m(\u001b[0m\u001b[0mretrain\u001b[0m\u001b[0;34m=\u001b[0m\u001b[0;32mTrue\u001b[0m\u001b[0;34m,\u001b[0m \u001b[0mpretrained_dir\u001b[0m\u001b[0;34m=\u001b[0m\u001b[0;34m'/disk/data/models/dict_framenet/enModel-with-exemplar/9/'\u001b[0m\u001b[0;34m)\u001b[0m\u001b[0;34m\u001b[0m\u001b[0m\n\u001b[0m",
      "\u001b[0;32m<ipython-input-5-1784b321989c>\u001b[0m in \u001b[0;36mtrain\u001b[0;34m(retrain, pretrained_dir)\u001b[0m\n\u001b[1;32m    116\u001b[0m         \u001b[0;32mif\u001b[0m \u001b[0;32mnot\u001b[0m \u001b[0mos\u001b[0m\u001b[0;34m.\u001b[0m\u001b[0mpath\u001b[0m\u001b[0;34m.\u001b[0m\u001b[0mexists\u001b[0m\u001b[0;34m(\u001b[0m\u001b[0mmodel_saved_path\u001b[0m\u001b[0;34m)\u001b[0m\u001b[0;34m:\u001b[0m\u001b[0;34m\u001b[0m\u001b[0m\n\u001b[1;32m    117\u001b[0m             \u001b[0mos\u001b[0m\u001b[0;34m.\u001b[0m\u001b[0mmakedirs\u001b[0m\u001b[0;34m(\u001b[0m\u001b[0mmodel_saved_path\u001b[0m\u001b[0;34m)\u001b[0m\u001b[0;34m\u001b[0m\u001b[0m\n\u001b[0;32m--> 118\u001b[0;31m         \u001b[0mmodel\u001b[0m\u001b[0;34m.\u001b[0m\u001b[0msave_pretrained\u001b[0m\u001b[0;34m(\u001b[0m\u001b[0mmodel_saved_path\u001b[0m\u001b[0;34m)\u001b[0m\u001b[0;34m\u001b[0m\u001b[0m\n\u001b[0m\u001b[1;32m    119\u001b[0m \u001b[0;34m\u001b[0m\u001b[0m\n\u001b[1;32m    120\u001b[0m         \u001b[0;31m# load a fine-tuned model\u001b[0m\u001b[0;34m\u001b[0m\u001b[0;34m\u001b[0m\u001b[0m\n",
      "\u001b[0;32m/usr/local/lib/python3.6/dist-packages/transformers/modeling_utils.py\u001b[0m in \u001b[0;36msave_pretrained\u001b[0;34m(self, save_directory)\u001b[0m\n\u001b[1;32m    248\u001b[0m         \u001b[0;31m# If we save using the predefined names, we can load using `from_pretrained`\u001b[0m\u001b[0;34m\u001b[0m\u001b[0;34m\u001b[0m\u001b[0m\n\u001b[1;32m    249\u001b[0m         \u001b[0moutput_model_file\u001b[0m \u001b[0;34m=\u001b[0m \u001b[0mos\u001b[0m\u001b[0;34m.\u001b[0m\u001b[0mpath\u001b[0m\u001b[0;34m.\u001b[0m\u001b[0mjoin\u001b[0m\u001b[0;34m(\u001b[0m\u001b[0msave_directory\u001b[0m\u001b[0;34m,\u001b[0m \u001b[0mWEIGHTS_NAME\u001b[0m\u001b[0;34m)\u001b[0m\u001b[0;34m\u001b[0m\u001b[0m\n\u001b[0;32m--> 250\u001b[0;31m         \u001b[0mtorch\u001b[0m\u001b[0;34m.\u001b[0m\u001b[0msave\u001b[0m\u001b[0;34m(\u001b[0m\u001b[0mmodel_to_save\u001b[0m\u001b[0;34m.\u001b[0m\u001b[0mstate_dict\u001b[0m\u001b[0;34m(\u001b[0m\u001b[0;34m)\u001b[0m\u001b[0;34m,\u001b[0m \u001b[0moutput_model_file\u001b[0m\u001b[0;34m)\u001b[0m\u001b[0;34m\u001b[0m\u001b[0m\n\u001b[0m\u001b[1;32m    251\u001b[0m         \u001b[0mlogger\u001b[0m\u001b[0;34m.\u001b[0m\u001b[0minfo\u001b[0m\u001b[0;34m(\u001b[0m\u001b[0;34m\"Model weights saved in {}\"\u001b[0m\u001b[0;34m.\u001b[0m\u001b[0mformat\u001b[0m\u001b[0;34m(\u001b[0m\u001b[0moutput_model_file\u001b[0m\u001b[0;34m)\u001b[0m\u001b[0;34m)\u001b[0m\u001b[0;34m\u001b[0m\u001b[0m\n\u001b[1;32m    252\u001b[0m \u001b[0;34m\u001b[0m\u001b[0m\n",
      "\u001b[0;32m/usr/local/lib/python3.6/dist-packages/torch/serialization.py\u001b[0m in \u001b[0;36msave\u001b[0;34m(obj, f, pickle_module, pickle_protocol, _use_new_zipfile_serialization)\u001b[0m\n\u001b[1;32m    326\u001b[0m \u001b[0;34m\u001b[0m\u001b[0m\n\u001b[1;32m    327\u001b[0m     \u001b[0;32mwith\u001b[0m \u001b[0m_open_file_like\u001b[0m\u001b[0;34m(\u001b[0m\u001b[0mf\u001b[0m\u001b[0;34m,\u001b[0m \u001b[0;34m'wb'\u001b[0m\u001b[0;34m)\u001b[0m \u001b[0;32mas\u001b[0m \u001b[0mopened_file\u001b[0m\u001b[0;34m:\u001b[0m\u001b[0;34m\u001b[0m\u001b[0m\n\u001b[0;32m--> 328\u001b[0;31m         \u001b[0m_legacy_save\u001b[0m\u001b[0;34m(\u001b[0m\u001b[0mobj\u001b[0m\u001b[0;34m,\u001b[0m \u001b[0mopened_file\u001b[0m\u001b[0;34m,\u001b[0m \u001b[0mpickle_module\u001b[0m\u001b[0;34m,\u001b[0m \u001b[0mpickle_protocol\u001b[0m\u001b[0;34m)\u001b[0m\u001b[0;34m\u001b[0m\u001b[0m\n\u001b[0m\u001b[1;32m    329\u001b[0m \u001b[0;34m\u001b[0m\u001b[0m\n\u001b[1;32m    330\u001b[0m \u001b[0;34m\u001b[0m\u001b[0m\n",
      "\u001b[0;32m/usr/local/lib/python3.6/dist-packages/torch/serialization.py\u001b[0m in \u001b[0;36m_legacy_save\u001b[0;34m(obj, f, pickle_module, pickle_protocol)\u001b[0m\n\u001b[1;32m    405\u001b[0m     \u001b[0mf\u001b[0m\u001b[0;34m.\u001b[0m\u001b[0mflush\u001b[0m\u001b[0;34m(\u001b[0m\u001b[0;34m)\u001b[0m\u001b[0;34m\u001b[0m\u001b[0m\n\u001b[1;32m    406\u001b[0m     \u001b[0;32mfor\u001b[0m \u001b[0mkey\u001b[0m \u001b[0;32min\u001b[0m \u001b[0mserialized_storage_keys\u001b[0m\u001b[0;34m:\u001b[0m\u001b[0;34m\u001b[0m\u001b[0m\n\u001b[0;32m--> 407\u001b[0;31m         \u001b[0mserialized_storages\u001b[0m\u001b[0;34m[\u001b[0m\u001b[0mkey\u001b[0m\u001b[0;34m]\u001b[0m\u001b[0;34m.\u001b[0m\u001b[0m_write_file\u001b[0m\u001b[0;34m(\u001b[0m\u001b[0mf\u001b[0m\u001b[0;34m,\u001b[0m \u001b[0m_should_read_directly\u001b[0m\u001b[0;34m(\u001b[0m\u001b[0mf\u001b[0m\u001b[0;34m)\u001b[0m\u001b[0;34m)\u001b[0m\u001b[0;34m\u001b[0m\u001b[0m\n\u001b[0m\u001b[1;32m    408\u001b[0m \u001b[0;34m\u001b[0m\u001b[0m\n\u001b[1;32m    409\u001b[0m \u001b[0;34m\u001b[0m\u001b[0m\n",
      "\u001b[0;31mKeyboardInterrupt\u001b[0m: "
     ]
    }
   ],
   "source": [
    "# by 100%\n",
    "\n",
    "model_dir = '/disk/data/models/dict_framenet/mulModel-100/'\n",
    "trn, dev, tst = dataio.load_data(srl=srl, language='ko')\n",
    "# trn = random.sample(trn, k=20)\n",
    "epochs = 50\n",
    "\n",
    "\n",
    "print('\\nFineTuning Multilingual')\n",
    "print('### TRAINING')\n",
    "print('MODEL:', srl)\n",
    "print('LANGUAGE:', language)\n",
    "print('PRETRAINED BERT:', PRETRAINED_MODEL)\n",
    "print('training data:')\n",
    "print('\\t(ko):', len(trn))\n",
    "print('BATCH_SIZE:', batch_size)\n",
    "print('MAX_LEN:', MAX_LEN)\n",
    "print('')\n",
    "\n",
    "bert_io = utils.for_BERT(mode='train', srl=srl, language=language, masking=masking, fnversion=fnversion, pretrained=PRETRAINED_MODEL)\n",
    "train(retrain=True, pretrained_dir='/disk/data/models/dict_framenet/enModel-with-exemplar/9/')"
   ]
  },
  {
   "cell_type": "code",
   "execution_count": null,
   "metadata": {},
   "outputs": [],
   "source": [
    "# by 25% (4460)\n",
    "\n",
    "# model_dir = '/disk/data/models/framenet/mulModel-25/'\n",
    "# epochs = 50\n",
    "\n",
    "# trn, dev, tst = dataio.load_data(srl=srl, language='ko')\n",
    "\n",
    "# # trn = random.sample(trn, k=4460)\n",
    "# trn = random.sample(trn, k=50)\n",
    "# language = 'multi'\n",
    "\n",
    "# print('')\n",
    "# print('### TRAINING')\n",
    "# print('MODEL:', srl)\n",
    "# print('LANGUAGE:', language)\n",
    "# print('PRETRAINED BERT:', PRETRAINED_MODEL)\n",
    "# print('training data:')\n",
    "# print('\\t(ko):', len(trn))\n",
    "# print('BATCH_SIZE:', batch_size)\n",
    "# print('MAX_LEN:', MAX_LEN)\n",
    "# print('')\n",
    "\n",
    "# bert_io = utils.for_BERT(mode='train', srl=srl, language=language, masking=masking, fnversion=fnversion, pretrained=PRETRAINED_MODEL)\n",
    "# # train(retrain=True, pretrained_dir='/disk/data/models/framenet/enModel-with-exemplar/0/')"
   ]
  },
  {
   "cell_type": "code",
   "execution_count": null,
   "metadata": {},
   "outputs": [],
   "source": [
    "# by 50% (8919)\n",
    "\n",
    "# model_dir = '/disk/data/models/framenet/mulModel-50/'\n",
    "# epochs = 20\n",
    "\n",
    "# trn, dev, tst = dataio.load_data(srl=srl, language='ko')\n",
    "\n",
    "# trn = random.sample(trn, k=8919)\n",
    "# language = 'multi'\n",
    "\n",
    "# print('')\n",
    "# print('### TRAINING')\n",
    "# print('MODEL:', srl)\n",
    "# print('LANGUAGE:', language)\n",
    "# print('PRETRAINED BERT:', PRETRAINED_MODEL)\n",
    "# print('training data:')\n",
    "# print('\\t(ko):', len(trn))\n",
    "# print('BATCH_SIZE:', batch_size)\n",
    "# print('MAX_LEN:', MAX_LEN)\n",
    "# print('')\n",
    "\n",
    "# bert_io = utils.for_BERT(mode='train', srl=srl, language=language, masking=masking, fnversion=fnversion, pretrained=PRETRAINED_MODEL)\n",
    "# train(retrain=True, pretrained_dir='/disk/data/models/dict_framenet/enModel-with-exemplar/6/')"
   ]
  },
  {
   "cell_type": "code",
   "execution_count": null,
   "metadata": {},
   "outputs": [],
   "source": [
    "# by 75% (13378)\n",
    "\n",
    "# model_dir = '/disk/data/models/framenet/mulModel-75/'\n",
    "# epochs = 20\n",
    "\n",
    "# trn, dev, tst = dataio.load_data(srl=srl, language='ko')\n",
    "\n",
    "# trn = random.sample(trn, k=13378)\n",
    "# language = 'multi'\n",
    "\n",
    "# print('')\n",
    "# print('### TRAINING')\n",
    "# print('MODEL:', srl)\n",
    "# print('LANGUAGE:', language)\n",
    "# print('PRETRAINED BERT:', PRETRAINED_MODEL)\n",
    "# print('training data:')\n",
    "# print('\\t(ko):', len(trn))\n",
    "# print('BATCH_SIZE:', batch_size)\n",
    "# print('MAX_LEN:', MAX_LEN)\n",
    "# print('')\n",
    "\n",
    "# bert_io = utils.for_BERT(mode='train', srl=srl, language=language, masking=masking, fnversion=fnversion, pretrained=PRETRAINED_MODEL)\n",
    "# train(retrain=True, pretrained_dir='/disk/data/models/dict_framenet/enModel-with-exemplar/6/')"
   ]
  }
 ],
 "metadata": {
  "kernelspec": {
   "display_name": "Python 3",
   "language": "python",
   "name": "python3"
  },
  "language_info": {
   "codemirror_mode": {
    "name": "ipython",
    "version": 3
   },
   "file_extension": ".py",
   "mimetype": "text/x-python",
   "name": "python",
   "nbconvert_exporter": "python",
   "pygments_lexer": "ipython3",
   "version": "3.6.5"
  }
 },
 "nbformat": 4,
 "nbformat_minor": 2
}
